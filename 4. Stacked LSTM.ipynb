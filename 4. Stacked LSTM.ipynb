{
 "cells": [
  {
   "cell_type": "markdown",
   "metadata": {},
   "source": [
    "Ref: \n",
    "https://youtu.be/H6du_pfuznE \n",
    "https://github.com/krishnaik06/Stock-MArket-Forecasting"
   ]
  },
  {
   "cell_type": "code",
   "execution_count": 1,
   "metadata": {},
   "outputs": [
    {
     "name": "stdout",
     "output_type": "stream",
     "text": [
      "[*********************100%***********************]  1 of 1 completed\n"
     ]
    },
    {
     "data": {
      "text/html": [
       "<div>\n",
       "<style scoped>\n",
       "    .dataframe tbody tr th:only-of-type {\n",
       "        vertical-align: middle;\n",
       "    }\n",
       "\n",
       "    .dataframe tbody tr th {\n",
       "        vertical-align: top;\n",
       "    }\n",
       "\n",
       "    .dataframe thead th {\n",
       "        text-align: right;\n",
       "    }\n",
       "</style>\n",
       "<table border=\"1\" class=\"dataframe\">\n",
       "  <thead>\n",
       "    <tr style=\"text-align: right;\">\n",
       "      <th></th>\n",
       "      <th>Open</th>\n",
       "      <th>High</th>\n",
       "      <th>Low</th>\n",
       "      <th>Close</th>\n",
       "      <th>Adj Close</th>\n",
       "      <th>Volume</th>\n",
       "    </tr>\n",
       "    <tr>\n",
       "      <th>Date</th>\n",
       "      <th></th>\n",
       "      <th></th>\n",
       "      <th></th>\n",
       "      <th></th>\n",
       "      <th></th>\n",
       "      <th></th>\n",
       "    </tr>\n",
       "  </thead>\n",
       "  <tbody>\n",
       "    <tr>\n",
       "      <th>2010-06-29</th>\n",
       "      <td>3.800</td>\n",
       "      <td>5.000</td>\n",
       "      <td>3.508</td>\n",
       "      <td>4.778</td>\n",
       "      <td>4.778</td>\n",
       "      <td>93831500</td>\n",
       "    </tr>\n",
       "    <tr>\n",
       "      <th>2010-06-30</th>\n",
       "      <td>5.158</td>\n",
       "      <td>6.084</td>\n",
       "      <td>4.660</td>\n",
       "      <td>4.766</td>\n",
       "      <td>4.766</td>\n",
       "      <td>85935500</td>\n",
       "    </tr>\n",
       "    <tr>\n",
       "      <th>2010-07-01</th>\n",
       "      <td>5.000</td>\n",
       "      <td>5.184</td>\n",
       "      <td>4.054</td>\n",
       "      <td>4.392</td>\n",
       "      <td>4.392</td>\n",
       "      <td>41094000</td>\n",
       "    </tr>\n",
       "    <tr>\n",
       "      <th>2010-07-02</th>\n",
       "      <td>4.600</td>\n",
       "      <td>4.620</td>\n",
       "      <td>3.742</td>\n",
       "      <td>3.840</td>\n",
       "      <td>3.840</td>\n",
       "      <td>25699000</td>\n",
       "    </tr>\n",
       "    <tr>\n",
       "      <th>2010-07-06</th>\n",
       "      <td>4.000</td>\n",
       "      <td>4.000</td>\n",
       "      <td>3.166</td>\n",
       "      <td>3.222</td>\n",
       "      <td>3.222</td>\n",
       "      <td>34334500</td>\n",
       "    </tr>\n",
       "  </tbody>\n",
       "</table>\n",
       "</div>"
      ],
      "text/plain": [
       "             Open   High    Low  Close  Adj Close    Volume\n",
       "Date                                                       \n",
       "2010-06-29  3.800  5.000  3.508  4.778      4.778  93831500\n",
       "2010-06-30  5.158  6.084  4.660  4.766      4.766  85935500\n",
       "2010-07-01  5.000  5.184  4.054  4.392      4.392  41094000\n",
       "2010-07-02  4.600  4.620  3.742  3.840      3.840  25699000\n",
       "2010-07-06  4.000  4.000  3.166  3.222      3.222  34334500"
      ]
     },
     "execution_count": 1,
     "metadata": {},
     "output_type": "execute_result"
    }
   ],
   "source": [
    "### Keras and Tensorflow >2.0\n",
    "import yfinance as yf\n",
    "import numpy as np\n",
    "import matplotlib.pyplot as plt\n",
    "import pandas as pd\n",
    "df = yf.download(\"TSLA\")\n",
    "df.head()"
   ]
  },
  {
   "cell_type": "code",
   "execution_count": 2,
   "metadata": {},
   "outputs": [],
   "source": [
    "df1=df.reset_index()['Close']"
   ]
  },
  {
   "cell_type": "code",
   "execution_count": 3,
   "metadata": {},
   "outputs": [
    {
     "data": {
      "text/plain": [
       "[<matplotlib.lines.Line2D at 0x252fa8028c8>]"
      ]
     },
     "execution_count": 3,
     "metadata": {},
     "output_type": "execute_result"
    },
    {
     "data": {
      "image/png": "[encoded data removed]",
      "text/plain": [
       "<Figure size 432x288 with 1 Axes>"
      ]
     },
     "metadata": {
      "needs_background": "light"
     },
     "output_type": "display_data"
    }
   ],
   "source": [
    "import matplotlib.pyplot as plt\n",
    "plt.plot(df1)"
   ]
  },
  {
   "cell_type": "code",
   "execution_count": 4,
   "metadata": {},
   "outputs": [
    {
     "data": {
      "text/plain": [
       "2640    640.340027\n",
       "2641    645.979980\n",
       "2642    661.770020\n",
       "Name: Close, dtype: float64"
      ]
     },
     "execution_count": 4,
     "metadata": {},
     "output_type": "execute_result"
    }
   ],
   "source": [
    "### LSTM are sensitive to the scale of the data. so we apply MinMax scaler\n",
    "import numpy as np\n",
    "df1.tail(3)"
   ]
  },
  {
   "cell_type": "code",
   "execution_count": 5,
   "metadata": {},
   "outputs": [
    {
     "name": "stdout",
     "output_type": "stream",
     "text": [
      "[[0.00233869]\n",
      " [0.00232135]\n",
      " [0.00178076]]\n"
     ]
    }
   ],
   "source": [
    "from sklearn.preprocessing import MinMaxScaler\n",
    "scaler=MinMaxScaler(feature_range=(0,1))\n",
    "df1=scaler.fit_transform(np.array(df1).reshape(-1,1))\n",
    "print(df1[:3])"
   ]
  },
  {
   "cell_type": "code",
   "execution_count": 6,
   "metadata": {},
   "outputs": [],
   "source": [
    "\n",
    "##splitting dataset into train and test split\n",
    "training_size=int(len(df1)*0.65)\n",
    "test_size=len(df1)-training_size\n",
    "train_data,test_data=df1[0:training_size,:],df1[training_size:len(df1),:1]\n"
   ]
  },
  {
   "cell_type": "code",
   "execution_count": 7,
   "metadata": {},
   "outputs": [
    {
     "data": {
      "text/plain": [
       "(1717, 926)"
      ]
     },
     "execution_count": 7,
     "metadata": {},
     "output_type": "execute_result"
    }
   ],
   "source": [
    "training_size,test_size\n"
   ]
  },
  {
   "cell_type": "code",
   "execution_count": 8,
   "metadata": {},
   "outputs": [
    {
     "data": {
      "text/plain": [
       "array([[2.33869073e-03],\n",
       "       [2.32134555e-03],\n",
       "       [1.78075872e-03],\n",
       "       [9.82885968e-04],\n",
       "       [8.96158040e-05]])"
      ]
     },
     "execution_count": 8,
     "metadata": {},
     "output_type": "execute_result"
    }
   ],
   "source": [
    "train_data[:5]"
   ]
  },
  {
   "cell_type": "code",
   "execution_count": 9,
   "metadata": {},
   "outputs": [],
   "source": [
    "import numpy\n",
    "# convert an array of values into a dataset matrix\n",
    "def create_dataset(dataset, time_step=1):\n",
    "    dataX, dataY = [], []\n",
    "    for i in range(len(dataset)-time_step-1):\n",
    "        a = dataset[i:(i+time_step), 0]   ###i=0, 0,1,2,3-----99   100 \n",
    "        dataX.append(a)\n",
    "        dataY.append(dataset[i + time_step, 0])\n",
    "    return numpy.array(dataX), numpy.array(dataY)"
   ]
  },
  {
   "cell_type": "code",
   "execution_count": 10,
   "metadata": {},
   "outputs": [],
   "source": [
    "# reshape into X=t,t+1,t+2,t+3 and Y=t+4\n",
    "time_step = 100\n",
    "X_train, y_train = create_dataset(train_data, time_step)\n",
    "X_test, ytest = create_dataset(test_data, time_step)"
   ]
  },
  {
   "cell_type": "code",
   "execution_count": 11,
   "metadata": {},
   "outputs": [
    {
     "name": "stdout",
     "output_type": "stream",
     "text": [
      "(1616, 100)\n",
      "(1616,)\n"
     ]
    },
    {
     "data": {
      "text/plain": [
       "(None, None)"
      ]
     },
     "execution_count": 11,
     "metadata": {},
     "output_type": "execute_result"
    }
   ],
   "source": [
    "print(X_train.shape), print(y_train.shape)"
   ]
  },
  {
   "cell_type": "code",
   "execution_count": 12,
   "metadata": {},
   "outputs": [
    {
     "name": "stdout",
     "output_type": "stream",
     "text": [
      "(825, 100)\n",
      "(825,)\n"
     ]
    },
    {
     "data": {
      "text/plain": [
       "(None, None)"
      ]
     },
     "execution_count": 12,
     "metadata": {},
     "output_type": "execute_result"
    }
   ],
   "source": [
    "print(X_test.shape), print(ytest.shape)"
   ]
  },
  {
   "cell_type": "code",
   "execution_count": 13,
   "metadata": {},
   "outputs": [],
   "source": [
    "# reshape input to be [samples, time steps, features] which is required for LSTM\n",
    "X_train =X_train.reshape(X_train.shape[0],X_train.shape[1] , 1)\n",
    "X_test = X_test.reshape(X_test.shape[0],X_test.shape[1] , 1)"
   ]
  },
  {
   "cell_type": "code",
   "execution_count": 14,
   "metadata": {},
   "outputs": [],
   "source": [
    "### Create the Stacked LSTM model\n",
    "from tensorflow.keras.models import Sequential\n",
    "from tensorflow.keras.layers import Dense\n",
    "from tensorflow.keras.layers import LSTM\n"
   ]
  },
  {
   "cell_type": "code",
   "execution_count": 15,
   "metadata": {},
   "outputs": [],
   "source": [
    "model=Sequential()\n",
    "model.add(LSTM(50,return_sequences=True,input_shape=(100,1)))\n",
    "model.add(LSTM(50,return_sequences=True))\n",
    "model.add(LSTM(50))\n",
    "model.add(Dense(1))\n",
    "model.compile(loss='mean_squared_error',optimizer='adam')\n"
   ]
  },
  {
   "cell_type": "code",
   "execution_count": 16,
   "metadata": {},
   "outputs": [
    {
     "name": "stdout",
     "output_type": "stream",
     "text": [
      "Model: \"sequential\"\n",
      "_________________________________________________________________\n",
      "Layer (type)                 Output Shape              Param #   \n",
      "=================================================================\n",
      "lstm (LSTM)                  (None, 100, 50)           10400     \n",
      "_________________________________________________________________\n",
      "lstm_1 (LSTM)                (None, 100, 50)           20200     \n",
      "_________________________________________________________________\n",
      "lstm_2 (LSTM)                (None, 50)                20200     \n",
      "_________________________________________________________________\n",
      "dense (Dense)                (None, 1)                 51        \n",
      "=================================================================\n",
      "Total params: 50,851\n",
      "Trainable params: 50,851\n",
      "Non-trainable params: 0\n",
      "_________________________________________________________________\n"
     ]
    }
   ],
   "source": [
    "model.summary()\n"
   ]
  },
  {
   "cell_type": "code",
   "execution_count": 17,
   "metadata": {
    "collapsed": true,
    "jupyter": {
     "outputs_hidden": true
    }
   },
   "outputs": [
    {
     "name": "stdout",
     "output_type": "stream",
     "text": [
      "Epoch 1/100\n",
      "26/26 [==============================] - 6s 125ms/step - loss: 7.7132e-04 - val_loss: 0.0018\n",
      "Epoch 2/100\n",
      "26/26 [==============================] - 2s 89ms/step - loss: 3.6584e-05 - val_loss: 0.0027\n",
      "Epoch 3/100\n",
      "26/26 [==============================] - 2s 89ms/step - loss: 1.7886e-05 - val_loss: 0.0030\n",
      "Epoch 4/100\n",
      "26/26 [==============================] - 2s 88ms/step - loss: 1.8459e-05 - val_loss: 0.0032\n",
      "Epoch 5/100\n",
      "26/26 [==============================] - 2s 89ms/step - loss: 1.5038e-05 - val_loss: 0.0031\n",
      "Epoch 6/100\n",
      "26/26 [==============================] - 2s 91ms/step - loss: 1.4703e-05 - val_loss: 0.0033\n",
      "Epoch 7/100\n",
      "26/26 [==============================] - 2s 89ms/step - loss: 1.5287e-05 - val_loss: 0.0027\n",
      "Epoch 8/100\n",
      "26/26 [==============================] - 2s 88ms/step - loss: 1.3690e-05 - val_loss: 0.0029\n",
      "Epoch 9/100\n",
      "26/26 [==============================] - 2s 87ms/step - loss: 1.4235e-05 - val_loss: 0.0030\n",
      "Epoch 10/100\n",
      "26/26 [==============================] - 2s 88ms/step - loss: 1.2369e-05 - val_loss: 0.0030\n",
      "Epoch 11/100\n",
      "26/26 [==============================] - 2s 84ms/step - loss: 1.2529e-05 - val_loss: 0.0027\n",
      "Epoch 12/100\n",
      "26/26 [==============================] - 2s 88ms/step - loss: 1.0972e-05 - val_loss: 0.0027\n",
      "Epoch 13/100\n",
      "26/26 [==============================] - 2s 88ms/step - loss: 1.1597e-05 - val_loss: 0.0029\n",
      "Epoch 14/100\n",
      "26/26 [==============================] - 2s 84ms/step - loss: 1.0642e-05 - val_loss: 0.0036\n",
      "Epoch 15/100\n",
      "26/26 [==============================] - 2s 90ms/step - loss: 1.2788e-05 - val_loss: 0.0025\n",
      "Epoch 16/100\n",
      "26/26 [==============================] - 2s 89ms/step - loss: 1.1133e-05 - val_loss: 0.0027\n",
      "Epoch 17/100\n",
      "26/26 [==============================] - 2s 89ms/step - loss: 1.0710e-05 - val_loss: 0.0032\n",
      "Epoch 18/100\n",
      "26/26 [==============================] - 2s 87ms/step - loss: 1.1527e-05 - val_loss: 0.0038\n",
      "Epoch 19/100\n",
      "26/26 [==============================] - 2s 90ms/step - loss: 1.0085e-05 - val_loss: 0.0038\n",
      "Epoch 20/100\n",
      "26/26 [==============================] - 2s 89ms/step - loss: 9.5576e-06 - val_loss: 0.0038\n",
      "Epoch 21/100\n",
      "26/26 [==============================] - 2s 89ms/step - loss: 9.0718e-06 - val_loss: 0.0030\n",
      "Epoch 22/100\n",
      "26/26 [==============================] - 2s 89ms/step - loss: 1.1420e-05 - val_loss: 0.0040\n",
      "Epoch 23/100\n",
      "26/26 [==============================] - 2s 87ms/step - loss: 8.8760e-06 - val_loss: 0.0037\n",
      "Epoch 24/100\n",
      "26/26 [==============================] - 2s 83ms/step - loss: 1.0555e-05 - val_loss: 0.0041\n",
      "Epoch 25/100\n",
      "26/26 [==============================] - 2s 85ms/step - loss: 8.3265e-06 - val_loss: 0.0040\n",
      "Epoch 26/100\n",
      "26/26 [==============================] - 2s 88ms/step - loss: 8.7261e-06 - val_loss: 0.0045\n",
      "Epoch 27/100\n",
      "26/26 [==============================] - 2s 88ms/step - loss: 7.9721e-06 - val_loss: 0.0049\n",
      "Epoch 28/100\n",
      "26/26 [==============================] - 2s 89ms/step - loss: 9.1863e-06 - val_loss: 0.0048\n",
      "Epoch 29/100\n",
      "26/26 [==============================] - 2s 91ms/step - loss: 8.5988e-06 - val_loss: 0.0048\n",
      "Epoch 30/100\n",
      "26/26 [==============================] - 2s 90ms/step - loss: 8.4977e-06 - val_loss: 0.0050\n",
      "Epoch 31/100\n",
      "26/26 [==============================] - 2s 84ms/step - loss: 7.6097e-06 - val_loss: 0.0058\n",
      "Epoch 32/100\n",
      "26/26 [==============================] - 2s 86ms/step - loss: 8.1940e-06 - val_loss: 0.0049\n",
      "Epoch 33/100\n",
      "26/26 [==============================] - 2s 89ms/step - loss: 7.2736e-06 - val_loss: 0.0053\n",
      "Epoch 34/100\n",
      "26/26 [==============================] - 2s 88ms/step - loss: 7.6349e-06 - val_loss: 0.0057\n",
      "Epoch 35/100\n",
      "26/26 [==============================] - 2s 86ms/step - loss: 7.1478e-06 - val_loss: 0.0056\n",
      "Epoch 36/100\n",
      "26/26 [==============================] - 2s 88ms/step - loss: 7.2186e-06 - val_loss: 0.0064\n",
      "Epoch 37/100\n",
      "26/26 [==============================] - 2s 89ms/step - loss: 6.6497e-06 - val_loss: 0.0061\n",
      "Epoch 38/100\n",
      "26/26 [==============================] - 2s 89ms/step - loss: 9.8733e-06 - val_loss: 0.0063\n",
      "Epoch 39/100\n",
      "26/26 [==============================] - 2s 90ms/step - loss: 7.8521e-06 - val_loss: 0.0071\n",
      "Epoch 40/100\n",
      "26/26 [==============================] - 2s 89ms/step - loss: 7.3466e-06 - val_loss: 0.0067\n",
      "Epoch 41/100\n",
      "26/26 [==============================] - 2s 89ms/step - loss: 5.9561e-06 - val_loss: 0.0070\n",
      "Epoch 42/100\n",
      "26/26 [==============================] - 2s 89ms/step - loss: 7.3121e-06 - val_loss: 0.0079\n",
      "Epoch 43/100\n",
      "26/26 [==============================] - 2s 89ms/step - loss: 7.5630e-06 - val_loss: 0.0074\n",
      "Epoch 44/100\n",
      "26/26 [==============================] - 2s 89ms/step - loss: 7.5661e-06 - val_loss: 0.0066\n",
      "Epoch 45/100\n",
      "26/26 [==============================] - 2s 89ms/step - loss: 7.9079e-06 - val_loss: 0.0065\n",
      "Epoch 46/100\n",
      "26/26 [==============================] - 2s 90ms/step - loss: 7.2631e-06 - val_loss: 0.0068\n",
      "Epoch 47/100\n",
      "26/26 [==============================] - 2s 90ms/step - loss: 6.0391e-06 - val_loss: 0.0069\n",
      "Epoch 48/100\n",
      "26/26 [==============================] - 2s 88ms/step - loss: 6.3685e-06 - val_loss: 0.0063\n",
      "Epoch 49/100\n",
      "26/26 [==============================] - 2s 89ms/step - loss: 6.4394e-06 - val_loss: 0.0062\n",
      "Epoch 50/100\n",
      "26/26 [==============================] - 2s 88ms/step - loss: 6.1562e-06 - val_loss: 0.0068\n",
      "Epoch 51/100\n",
      "26/26 [==============================] - 2s 86ms/step - loss: 6.7665e-06 - val_loss: 0.0070\n",
      "Epoch 52/100\n",
      "26/26 [==============================] - 2s 86ms/step - loss: 8.9670e-06 - val_loss: 0.0063\n",
      "Epoch 53/100\n",
      "26/26 [==============================] - 2s 87ms/step - loss: 7.7002e-06 - val_loss: 0.0065\n",
      "Epoch 54/100\n",
      "26/26 [==============================] - 2s 87ms/step - loss: 6.4378e-06 - val_loss: 0.0060\n",
      "Epoch 55/100\n",
      "26/26 [==============================] - 2s 87ms/step - loss: 5.7952e-06 - val_loss: 0.0063\n",
      "Epoch 56/100\n",
      "26/26 [==============================] - 2s 85ms/step - loss: 5.6124e-06 - val_loss: 0.0066\n",
      "Epoch 57/100\n",
      "26/26 [==============================] - 2s 83ms/step - loss: 5.4916e-06 - val_loss: 0.0065\n",
      "Epoch 58/100\n",
      "26/26 [==============================] - 2s 85ms/step - loss: 5.4024e-06 - val_loss: 0.0063\n",
      "Epoch 59/100\n",
      "26/26 [==============================] - 2s 88ms/step - loss: 5.6772e-06 - val_loss: 0.0066\n",
      "Epoch 60/100\n",
      "26/26 [==============================] - 2s 88ms/step - loss: 5.7363e-06 - val_loss: 0.0067\n",
      "Epoch 61/100\n",
      "26/26 [==============================] - 2s 87ms/step - loss: 6.8418e-06 - val_loss: 0.0055\n",
      "Epoch 62/100\n",
      "26/26 [==============================] - 2s 88ms/step - loss: 7.1256e-06 - val_loss: 0.0062\n",
      "Epoch 63/100\n",
      "26/26 [==============================] - 2s 87ms/step - loss: 6.3216e-06 - val_loss: 0.0070\n",
      "Epoch 64/100\n",
      "26/26 [==============================] - 2s 86ms/step - loss: 7.0904e-06 - val_loss: 0.0073\n",
      "Epoch 65/100\n",
      "26/26 [==============================] - 2s 84ms/step - loss: 6.4894e-06 - val_loss: 0.0064\n",
      "Epoch 66/100\n",
      "26/26 [==============================] - 2s 86ms/step - loss: 6.6158e-06 - val_loss: 0.0064\n",
      "Epoch 67/100\n",
      "26/26 [==============================] - 2s 88ms/step - loss: 5.1448e-06 - val_loss: 0.0069\n",
      "Epoch 68/100\n",
      "26/26 [==============================] - 2s 84ms/step - loss: 5.6323e-06 - val_loss: 0.0056\n",
      "Epoch 69/100\n",
      "26/26 [==============================] - 2s 84ms/step - loss: 5.1714e-06 - val_loss: 0.0065\n",
      "Epoch 70/100\n",
      "26/26 [==============================] - 2s 86ms/step - loss: 5.9846e-06 - val_loss: 0.0060\n",
      "Epoch 71/100\n",
      "26/26 [==============================] - 2s 86ms/step - loss: 5.4310e-06 - val_loss: 0.0067\n",
      "Epoch 72/100\n",
      "26/26 [==============================] - 2s 85ms/step - loss: 6.5250e-06 - val_loss: 0.0062\n",
      "Epoch 73/100\n",
      "26/26 [==============================] - 2s 87ms/step - loss: 4.5488e-06 - val_loss: 0.0071\n",
      "Epoch 74/100\n",
      "26/26 [==============================] - 2s 85ms/step - loss: 6.2577e-06 - val_loss: 0.0060\n",
      "Epoch 75/100\n",
      "26/26 [==============================] - 2s 85ms/step - loss: 4.6664e-06 - val_loss: 0.0057\n",
      "Epoch 76/100\n",
      "26/26 [==============================] - 2s 87ms/step - loss: 6.2958e-06 - val_loss: 0.0064\n",
      "Epoch 77/100\n",
      "26/26 [==============================] - 2s 89ms/step - loss: 5.1659e-06 - val_loss: 0.0058\n",
      "Epoch 78/100\n",
      "26/26 [==============================] - 2s 85ms/step - loss: 5.3735e-06 - val_loss: 0.0063\n",
      "Epoch 79/100\n",
      "26/26 [==============================] - 2s 88ms/step - loss: 5.3147e-06 - val_loss: 0.0063\n",
      "Epoch 80/100\n",
      "26/26 [==============================] - 2s 86ms/step - loss: 4.9760e-06 - val_loss: 0.0065\n",
      "Epoch 81/100\n",
      "26/26 [==============================] - 2s 87ms/step - loss: 5.6690e-06 - val_loss: 0.0063\n",
      "Epoch 82/100\n",
      "26/26 [==============================] - 2s 87ms/step - loss: 4.3162e-06 - val_loss: 0.0061\n",
      "Epoch 83/100\n",
      "26/26 [==============================] - 2s 85ms/step - loss: 4.0727e-06 - val_loss: 0.0061\n",
      "Epoch 84/100\n",
      "26/26 [==============================] - 2s 85ms/step - loss: 4.6071e-06 - val_loss: 0.0057\n",
      "Epoch 85/100\n",
      "26/26 [==============================] - 2s 83ms/step - loss: 4.2069e-06 - val_loss: 0.0057\n",
      "Epoch 86/100\n",
      "26/26 [==============================] - 2s 87ms/step - loss: 4.6696e-06 - val_loss: 0.0056\n",
      "Epoch 87/100\n",
      "26/26 [==============================] - 2s 82ms/step - loss: 4.6910e-06 - val_loss: 0.0052\n",
      "Epoch 88/100\n",
      "26/26 [==============================] - 2s 85ms/step - loss: 5.9789e-06 - val_loss: 0.0052\n",
      "Epoch 89/100\n",
      "26/26 [==============================] - 2s 85ms/step - loss: 4.8866e-06 - val_loss: 0.0052\n",
      "Epoch 90/100\n",
      "26/26 [==============================] - 2s 87ms/step - loss: 6.9398e-06 - val_loss: 0.0050\n",
      "Epoch 91/100\n",
      "26/26 [==============================] - 2s 87ms/step - loss: 5.2671e-06 - val_loss: 0.0056\n",
      "Epoch 92/100\n",
      "26/26 [==============================] - 2s 83ms/step - loss: 4.4462e-06 - val_loss: 0.0058\n",
      "Epoch 93/100\n",
      "26/26 [==============================] - 2s 87ms/step - loss: 4.6677e-06 - val_loss: 0.0054\n",
      "Epoch 94/100\n",
      "26/26 [==============================] - 2s 85ms/step - loss: 4.4566e-06 - val_loss: 0.0053\n",
      "Epoch 95/100\n",
      "26/26 [==============================] - 2s 82ms/step - loss: 4.4363e-06 - val_loss: 0.0051\n",
      "Epoch 96/100\n",
      "26/26 [==============================] - 2s 84ms/step - loss: 5.0336e-06 - val_loss: 0.0053\n",
      "Epoch 97/100\n",
      "26/26 [==============================] - 2s 84ms/step - loss: 4.5168e-06 - val_loss: 0.0052\n",
      "Epoch 98/100\n",
      "26/26 [==============================] - 2s 85ms/step - loss: 4.7161e-06 - val_loss: 0.0050\n",
      "Epoch 99/100\n",
      "26/26 [==============================] - 2s 86ms/step - loss: 4.2412e-06 - val_loss: 0.0046\n",
      "Epoch 100/100\n",
      "26/26 [==============================] - 2s 85ms/step - loss: 5.0453e-06 - val_loss: 0.0048\n"
     ]
    },
    {
     "data": {
      "text/plain": [
       "<tensorflow.python.keras.callbacks.History at 0x252a8934548>"
      ]
     },
     "execution_count": 17,
     "metadata": {},
     "output_type": "execute_result"
    }
   ],
   "source": [
    "model.fit(X_train,y_train,validation_data=(X_test,ytest),epochs=100,batch_size=64,verbose=1)\n"
   ]
  },
  {
   "cell_type": "code",
   "execution_count": 18,
   "metadata": {},
   "outputs": [],
   "source": [
    "import tensorflow as tf\n"
   ]
  },
  {
   "cell_type": "code",
   "execution_count": 19,
   "metadata": {},
   "outputs": [],
   "source": [
    "### Lets Do the prediction and check performance metrics\n",
    "train_predict=model.predict(X_train)\n",
    "test_predict=model.predict(X_test)"
   ]
  },
  {
   "cell_type": "code",
   "execution_count": 20,
   "metadata": {},
   "outputs": [],
   "source": [
    "##Transformback to original form\n",
    "train_predict=scaler.inverse_transform(train_predict)\n",
    "test_predict=scaler.inverse_transform(test_predict)"
   ]
  },
  {
   "cell_type": "code",
   "execution_count": 21,
   "metadata": {},
   "outputs": [
    {
     "data": {
      "text/plain": [
       "34.655534728238"
      ]
     },
     "execution_count": 21,
     "metadata": {},
     "output_type": "execute_result"
    }
   ],
   "source": [
    "### Calculate RMSE performance metrics\n",
    "import math\n",
    "from sklearn.metrics import mean_squared_error\n",
    "math.sqrt(mean_squared_error(y_train,train_predict))"
   ]
  },
  {
   "cell_type": "code",
   "execution_count": 22,
   "metadata": {},
   "outputs": [
    {
     "data": {
      "text/plain": [
       "142.6666922850874"
      ]
     },
     "execution_count": 22,
     "metadata": {},
     "output_type": "execute_result"
    }
   ],
   "source": [
    "### Test Data RMSE\n",
    "math.sqrt(mean_squared_error(ytest,test_predict))\n"
   ]
  },
  {
   "cell_type": "code",
   "execution_count": 23,
   "metadata": {},
   "outputs": [
    {
     "data": {
      "image/png": "[encoded data removed]",
      "text/plain": [
       "<Figure size 432x288 with 1 Axes>"
      ]
     },
     "metadata": {
      "needs_background": "light"
     },
     "output_type": "display_data"
    }
   ],
   "source": [
    "### Plotting \n",
    "# shift train predictions for plotting\n",
    "look_back=100\n",
    "trainPredictPlot = numpy.empty_like(df1)\n",
    "trainPredictPlot[:, :] = np.nan\n",
    "trainPredictPlot[look_back:len(train_predict)+look_back, :] = train_predict\n",
    "# shift test predictions for plotting\n",
    "testPredictPlot = numpy.empty_like(df1)\n",
    "testPredictPlot[:, :] = numpy.nan\n",
    "testPredictPlot[len(train_predict)+(look_back*2)+1:len(df1)-1, :] = test_predict\n",
    "# plot baseline and predictions\n",
    "plt.plot(scaler.inverse_transform(df1))\n",
    "plt.plot(trainPredictPlot)\n",
    "plt.plot(testPredictPlot)\n",
    "plt.show()\n"
   ]
  },
  {
   "cell_type": "code",
   "execution_count": 24,
   "metadata": {},
   "outputs": [
    {
     "data": {
      "text/plain": [
       "926"
      ]
     },
     "execution_count": 24,
     "metadata": {},
     "output_type": "execute_result"
    }
   ],
   "source": [
    "len(test_data)\n"
   ]
  },
  {
   "cell_type": "code",
   "execution_count": 25,
   "metadata": {},
   "outputs": [
    {
     "data": {
      "text/plain": [
       "(1, 585)"
      ]
     },
     "execution_count": 25,
     "metadata": {},
     "output_type": "execute_result"
    }
   ],
   "source": [
    "x_input=test_data[341:].reshape(1,-1)\n",
    "x_input.shape"
   ]
  },
  {
   "cell_type": "code",
   "execution_count": 26,
   "metadata": {},
   "outputs": [],
   "source": [
    "temp_input=list(x_input)\n",
    "temp_input=temp_input[0].tolist()\n"
   ]
  },
  {
   "cell_type": "code",
   "execution_count": 27,
   "metadata": {},
   "outputs": [
    {
     "data": {
      "text/plain": [
       "[0.08306834093058274, 0.08263760501515384, 0.07896334533486664]"
      ]
     },
     "execution_count": 27,
     "metadata": {},
     "output_type": "execute_result"
    }
   ],
   "source": [
    "temp_input[:3]"
   ]
  },
  {
   "cell_type": "code",
   "execution_count": 42,
   "metadata": {},
   "outputs": [
    {
     "name": "stdout",
     "output_type": "stream",
     "text": [
      "0 day input [0.07047583 0.07539026 0.07399977 0.07172468 0.07059436 0.07086898\n",
      " 0.08046369 0.07883326 0.08645352 0.09109043 0.09223231 0.09080135\n",
      " 0.09294634 0.09495838 0.09557412 0.09412581 0.09402752 0.09608002\n",
      " 0.09701665 0.09675936 0.09120027 0.09335396 0.09487743 0.09616097\n",
      " 0.09785789 0.09761506 0.09588633 0.09319785 0.08962477 0.09545559\n",
      " 0.0948543  0.09599618 0.09405932 0.09675069 0.09906626 0.09941605\n",
      " 0.10038737 0.09891594 0.10099156 0.10145698 0.10141073 0.1043565\n",
      " 0.10115344 0.09615518 0.09286251 0.09168883 0.08660384 0.08787292\n",
      " 0.08082504 0.08969993 0.08682065 0.09194901 0.09163968 0.08508325\n",
      " 0.08226179 0.08727162 0.0922641  0.09237685 0.09329614 0.09515784\n",
      " 0.09581985 0.09210222 0.09500174 0.09547005 0.09583429 0.08281105\n",
      " 0.08184551 0.07857019 0.0797034  0.08130204 0.08111124 0.08142345\n",
      " 0.08469299 0.08418709 0.08568744 0.08588402 0.08832967 0.08713575\n",
      " 0.08432874 0.08383441 0.08586957 0.08557181 0.08451954 0.08324757\n",
      " 0.08443571 0.08378816 0.08289778 0.07962245 0.08062847 0.08180215\n",
      " 0.08153908 0.08641883 0.08790472 0.0806516  0.07792553 0.07537581\n",
      " 0.07528909 0.07539026 0.07757285 0.07953284 0.07734736 0.07896623\n",
      " 0.07925532 0.07505492 0.07333776 0.07275382 0.0745259  0.07464732\n",
      " 0.07190391 0.07071577 0.07284054 0.07488147 0.0759771  0.07633557\n",
      " 0.07902983 0.07807585 0.07979012 0.07284343 0.07491906 0.07441027\n",
      " 0.07415299 0.07523705 0.07302844 0.07282031 0.07243872 0.07445652\n",
      " 0.07384077 0.07442761 0.07138934 0.07172178 0.07020698 0.06701839\n",
      " 0.06340772 0.06523763 0.06443397 0.06308106 0.06599792 0.06915761\n",
      " 0.06924723 0.06685361 0.06621184 0.06538506 0.06467391 0.06105747\n",
      " 0.06258962 0.06248554 0.06143906 0.05643791 0.0547988  0.05471785\n",
      " 0.05114767 0.05194554 0.05054059 0.04998266 0.05031799 0.0498439\n",
      " 0.0489593  0.04716986 0.05139917 0.05226353 0.05496935 0.05455019\n",
      " 0.05697271 0.05819264 0.05592623 0.05727047 0.05756244 0.06048508\n",
      " 0.06040125 0.0608898  0.05892114 0.05956869 0.06008326 0.05896161\n",
      " 0.05881996 0.05985199 0.06003122 0.06110372 0.06034632 0.06333834\n",
      " 0.06281799 0.06202012 0.06193918 0.06450046 0.06440796 0.06628122\n",
      " 0.06871531 0.06839154 0.06910846 0.06872687 0.07006823 0.06934552\n",
      " 0.0706435  0.07200509 0.06158071 0.06135523 0.06358985 0.065466\n",
      " 0.0652781  0.06303481 0.06317646 0.06143617 0.06213865 0.0629105\n",
      " 0.06432123 0.06337014 0.06163564 0.06336725 0.05892114 0.05777058\n",
      " 0.05901364 0.06100544 0.06072502 0.05927093 0.05965252 0.05654486\n",
      " 0.05758557 0.05731961 0.05775613 0.05952532 0.06065275 0.0604793\n",
      " 0.05922757 0.06180042 0.06118467 0.06243929 0.06352336 0.06686517\n",
      " 0.0665096  0.06631591 0.065625   0.06619739 0.06582158 0.06672063\n",
      " 0.06499191 0.06516824 0.05995895 0.06154602 0.06555273 0.06542842\n",
      " 0.06506418 0.06616848 0.06571751 0.06279776 0.06233522 0.06415356\n",
      " 0.06482713 0.06612222 0.06618294 0.06709355 0.06971554 0.06998439\n",
      " 0.07052209 0.07116385 0.06971265 0.06871531 0.06931661 0.06905643\n",
      " 0.08206522 0.09028966 0.09016825 0.08684667 0.08649688 0.08647086\n",
      " 0.08600543 0.08720802 0.08713575 0.08984158 0.09243178 0.09289431\n",
      " 0.09519253 0.0965917  0.0954874  0.09642403 0.09723924 0.09660904\n",
      " 0.09936401 0.0972537  0.09800821 0.09170907 0.09266304 0.09051803\n",
      " 0.09120317 0.0908129  0.09223809 0.09262257 0.09170618 0.09093721\n",
      " 0.09253296 0.09358522 0.09627659 0.09739246 0.09941026 0.09903735\n",
      " 0.10571809 0.10499248 0.10908591 0.11223404 0.11268212 0.11662234\n",
      " 0.11836552 0.12001041 0.11984851 0.11531568 0.11636506 0.11981383\n",
      " 0.12349965 0.12596554 0.13103029 0.13770236 0.13458025 0.13365807\n",
      " 0.14716119 0.15093663 0.14532261 0.1438743  0.14300994 0.15361934\n",
      " 0.16008326 0.16084644 0.15871299 0.15674722 0.15931429 0.16338749\n",
      " 0.18068051 0.18350196 0.22091813 0.25186749 0.20782262 0.21194497\n",
      " 0.21168767 0.21839731 0.21929349 0.21724386 0.22785616 0.22670848\n",
      " 0.24358232 0.26064407 0.25543768 0.25589731 0.23646796 0.22667379\n",
      " 0.22057122 0.19172063 0.18853782 0.21040125 0.21094763 0.21210105\n",
      " 0.20488553 0.19879741 0.17119565 0.18198716 0.17877833 0.15747861\n",
      " 0.15345166 0.12409517 0.11979649 0.09985546 0.11905643 0.11902463\n",
      " 0.12097884 0.14141998 0.15132111 0.14811518 0.14412581 0.14059031\n",
      " 0.14691259 0.13464384 0.12681255 0.13419577 0.14466929 0.15311343\n",
      " 0.15409343 0.1610777  0.18361182 0.20065043 0.20641478 0.2108609\n",
      " 0.21337014 0.21119334 0.19395235 0.20707389 0.19941895 0.20506186\n",
      " 0.22633846 0.2177729  0.22684726 0.22146162 0.198173   0.21548047\n",
      " 0.21750983 0.22166398 0.22092969 0.23231383 0.22996357 0.2294201\n",
      " 0.2240865  0.22766247 0.22645987 0.23064003 0.22901539 0.23119796\n",
      " 0.23467854 0.23157957 0.23215484 0.232548   0.2283794  0.23681776\n",
      " 0.25505897 0.25027752 0.25068223 0.24531106 0.25146277 0.27003931\n",
      " 0.26736529 0.2917582  0.27666511 0.26580712 0.28188597 0.27935071\n",
      " 0.28214327 0.28566144 0.28477682 0.28287465 0.28503123 0.273199\n",
      " 0.28046369 0.27287812 0.28721958 0.30758847 0.31909978 0.34483695\n",
      " 0.39193457 0.39721899 0.39028676 0.39849674 0.44196634 0.42820882\n",
      " 0.43391533 0.4423595  0.42924374 0.42930157 0.47039779 0.44882053\n",
      " 0.45574989 0.43283709 0.40506475 0.44050649 0.42226238 0.42880144\n",
      " 0.42544228 0.40904256 0.42472248 0.42530064 0.42472826 0.42604646\n",
      " 0.41538794 0.4055186  0.39274686 0.44488899 0.46403795 0.47262662\n",
      " 0.52608694 0.54096034 0.53848577 0.57412985 0.58804926 0.57770582\n",
      " 0.58034806 0.61787986 0.64261968 0.63529139 0.71571463 0.68207965\n",
      " 0.64207041 0.58371878 0.60008095 0.4727249  0.52486124 0.53217506\n",
      " 0.53416975 0.60195998 0.64552499 0.63396162 0.60746703 0.63452531\n",
      " 0.64499019 0.6086234  0.54521274 0.55595226 0.58421022 0.60424377\n",
      " 0.60116502 0.61553251 0.64321231 0.59541223 0.61071923 0.59380783\n",
      " 0.61016996 0.61106616 0.62274514 0.63474212 0.64102971 0.66220512\n",
      " 0.64425301 0.6309407  0.61816314 0.60531337 0.60632518 0.61087825\n",
      " 0.60341987 0.60291397 0.60927381 0.58230225 0.58925472 0.55631361\n",
      " 0.57433801 0.60814638 0.60392578 0.62865691 0.61689121 0.6043305\n",
      " 0.58857537 0.5983609  0.590599   0.58588691 0.58529428 0.63374478\n",
      " 0.69883212 0.71708775 0.70312498 0.74972533 0.79819034 0.82510407\n",
      " 0.84210223 0.81585334 0.84065681 0.8176168  0.85311633 0.86129738\n",
      " 0.92304581 0.93478262 0.86916047 0.90181257 0.87712475 0.92025615\n",
      " 0.91074526 0.89559728 0.94348408 1.         0.93475368 0.92099333\n",
      " 0.92914544 0.95196869 0.61779004 0.57313156 0.50136524 0.41921186\n",
      " 0.33822805 0.26479414 0.20183113 0.15022507 0.10967775 0.07918343\n",
      " 0.05733572 0.04255832 0.03327938 0.02804933 0.02560782 0.02491218\n",
      " 0.02514061 0.02568014 0.02610567 0.02615368 0.02569339 0.02469681\n",
      " 0.02321027 0.02132802 0.01916988 0.01686301 0.0145283  0.01227112\n",
      " 0.01017592 0.00830413]\n"
     ]
    },
    {
     "ename": "ValueError",
     "evalue": "cannot reshape array of size 584 into shape (1,100,1)",
     "output_type": "error",
     "traceback": [
      "\u001b[1;31m---------------------------------------------------------------------------\u001b[0m",
      "\u001b[1;31mValueError\u001b[0m                                Traceback (most recent call last)",
      "\u001b[1;32m<ipython-input-42-b8544ff16353>\u001b[0m in \u001b[0;36m<module>\u001b[1;34m()\u001b[0m\n\u001b[0;32m     12\u001b[0m         \u001b[0mprint\u001b[0m\u001b[1;33m(\u001b[0m\u001b[1;34m\"{} day input {}\"\u001b[0m\u001b[1;33m.\u001b[0m\u001b[0mformat\u001b[0m\u001b[1;33m(\u001b[0m\u001b[0mi\u001b[0m\u001b[1;33m,\u001b[0m\u001b[0mx_input\u001b[0m\u001b[1;33m)\u001b[0m\u001b[1;33m)\u001b[0m\u001b[1;33m\u001b[0m\u001b[1;33m\u001b[0m\u001b[0m\n\u001b[0;32m     13\u001b[0m         \u001b[0mx_input\u001b[0m\u001b[1;33m=\u001b[0m\u001b[0mx_input\u001b[0m\u001b[1;33m.\u001b[0m\u001b[0mreshape\u001b[0m\u001b[1;33m(\u001b[0m\u001b[1;36m1\u001b[0m\u001b[1;33m,\u001b[0m\u001b[1;33m-\u001b[0m\u001b[1;36m1\u001b[0m\u001b[1;33m)\u001b[0m\u001b[1;33m\u001b[0m\u001b[1;33m\u001b[0m\u001b[0m\n\u001b[1;32m---> 14\u001b[1;33m         \u001b[0mx_input\u001b[0m \u001b[1;33m=\u001b[0m \u001b[0mx_input\u001b[0m\u001b[1;33m.\u001b[0m\u001b[0mreshape\u001b[0m\u001b[1;33m(\u001b[0m\u001b[1;33m(\u001b[0m\u001b[1;36m1\u001b[0m\u001b[1;33m,\u001b[0m \u001b[0mn_steps\u001b[0m\u001b[1;33m,\u001b[0m \u001b[1;36m1\u001b[0m\u001b[1;33m)\u001b[0m\u001b[1;33m)\u001b[0m\u001b[1;33m\u001b[0m\u001b[1;33m\u001b[0m\u001b[0m\n\u001b[0m\u001b[0;32m     15\u001b[0m         \u001b[1;31m#print(x_input)\u001b[0m\u001b[1;33m\u001b[0m\u001b[1;33m\u001b[0m\u001b[1;33m\u001b[0m\u001b[0m\n\u001b[0;32m     16\u001b[0m         \u001b[0myhat\u001b[0m \u001b[1;33m=\u001b[0m \u001b[0mmodel\u001b[0m\u001b[1;33m.\u001b[0m\u001b[0mpredict\u001b[0m\u001b[1;33m(\u001b[0m\u001b[0mx_input\u001b[0m\u001b[1;33m,\u001b[0m \u001b[0mverbose\u001b[0m\u001b[1;33m=\u001b[0m\u001b[1;36m0\u001b[0m\u001b[1;33m)\u001b[0m\u001b[1;33m\u001b[0m\u001b[1;33m\u001b[0m\u001b[0m\n",
      "\u001b[1;31mValueError\u001b[0m: cannot reshape array of size 584 into shape (1,100,1)"
     ]
    }
   ],
   "source": [
    "# demonstrate prediction for next 10 days\n",
    "from numpy import array\n",
    "\n",
    "lst_output=[]\n",
    "n_steps=100\n",
    "i=0\n",
    "while(i<30):\n",
    "    \n",
    "    if(len(temp_input)>100):\n",
    "        #print(temp_input)\n",
    "        x_input=np.array(temp_input[1:])\n",
    "        print(\"{} day input {}\".format(i,x_input))\n",
    "        x_input=x_input.reshape(1,-1)\n",
    "        x_input = x_input.reshape((1, n_steps, 1))\n",
    "        #print(x_input)\n",
    "        yhat = model.predict(x_input, verbose=0)\n",
    "        print(\"{} day output {}\".format(i,yhat))\n",
    "        temp_input.extend(yhat[0].tolist())\n",
    "        temp_input=temp_input[1:]\n",
    "        #print(temp_input)\n",
    "        lst_output.extend(yhat.tolist())\n",
    "        i=i+1\n",
    "    else:\n",
    "        x_input = x_input.reshape((1, n_steps,1))\n",
    "        yhat = model.predict(x_input, verbose=0)\n",
    "        print(yhat[0])\n",
    "        temp_input.extend(yhat[0].tolist())\n",
    "        print(len(temp_input))\n",
    "        lst_output.extend(yhat.tolist())\n",
    "        i=i+1\n",
    "    \n",
    "\n",
    "print(lst_output)"
   ]
  },
  {
   "cell_type": "code",
   "execution_count": 43,
   "metadata": {},
   "outputs": [],
   "source": [
    "day_new=np.arange(1,101)\n",
    "day_pred=np.arange(101,131)"
   ]
  },
  {
   "cell_type": "code",
   "execution_count": 44,
   "metadata": {},
   "outputs": [
    {
     "data": {
      "text/plain": [
       "2643"
      ]
     },
     "execution_count": 44,
     "metadata": {},
     "output_type": "execute_result"
    }
   ],
   "source": [
    "len(df1)\n"
   ]
  },
  {
   "cell_type": "code",
   "execution_count": 45,
   "metadata": {},
   "outputs": [
    {
     "ename": "ValueError",
     "evalue": "x and y must have same first dimension, but have shapes (100,) and (1485, 1)",
     "output_type": "error",
     "traceback": [
      "\u001b[1;31m---------------------------------------------------------------------------\u001b[0m",
      "\u001b[1;31mValueError\u001b[0m                                Traceback (most recent call last)",
      "\u001b[1;32m<ipython-input-45-f7a6cd20cb29>\u001b[0m in \u001b[0;36m<module>\u001b[1;34m()\u001b[0m\n\u001b[1;32m----> 1\u001b[1;33m \u001b[0mplt\u001b[0m\u001b[1;33m.\u001b[0m\u001b[0mplot\u001b[0m\u001b[1;33m(\u001b[0m\u001b[0mday_new\u001b[0m\u001b[1;33m,\u001b[0m\u001b[0mscaler\u001b[0m\u001b[1;33m.\u001b[0m\u001b[0minverse_transform\u001b[0m\u001b[1;33m(\u001b[0m\u001b[0mdf1\u001b[0m\u001b[1;33m[\u001b[0m\u001b[1;36m1158\u001b[0m\u001b[1;33m:\u001b[0m\u001b[1;33m]\u001b[0m\u001b[1;33m)\u001b[0m\u001b[1;33m)\u001b[0m\u001b[1;33m\u001b[0m\u001b[1;33m\u001b[0m\u001b[0m\n\u001b[0m\u001b[0;32m      2\u001b[0m \u001b[0mplt\u001b[0m\u001b[1;33m.\u001b[0m\u001b[0mplot\u001b[0m\u001b[1;33m(\u001b[0m\u001b[0mday_pred\u001b[0m\u001b[1;33m,\u001b[0m\u001b[0mscaler\u001b[0m\u001b[1;33m.\u001b[0m\u001b[0minverse_transform\u001b[0m\u001b[1;33m(\u001b[0m\u001b[0mlst_output\u001b[0m\u001b[1;33m)\u001b[0m\u001b[1;33m)\u001b[0m\u001b[1;33m\u001b[0m\u001b[1;33m\u001b[0m\u001b[0m\n",
      "\u001b[1;32mC:\\Users\\lucki\\WORK\\Anaconda3\\envs\\z-m\\lib\\site-packages\\matplotlib\\pyplot.py\u001b[0m in \u001b[0;36mplot\u001b[1;34m(scalex, scaley, data, *args, **kwargs)\u001b[0m\n\u001b[0;32m   2840\u001b[0m     return gca().plot(\n\u001b[0;32m   2841\u001b[0m         \u001b[1;33m*\u001b[0m\u001b[0margs\u001b[0m\u001b[1;33m,\u001b[0m \u001b[0mscalex\u001b[0m\u001b[1;33m=\u001b[0m\u001b[0mscalex\u001b[0m\u001b[1;33m,\u001b[0m \u001b[0mscaley\u001b[0m\u001b[1;33m=\u001b[0m\u001b[0mscaley\u001b[0m\u001b[1;33m,\u001b[0m\u001b[1;33m\u001b[0m\u001b[1;33m\u001b[0m\u001b[0m\n\u001b[1;32m-> 2842\u001b[1;33m         **({\"data\": data} if data is not None else {}), **kwargs)\n\u001b[0m\u001b[0;32m   2843\u001b[0m \u001b[1;33m\u001b[0m\u001b[0m\n\u001b[0;32m   2844\u001b[0m \u001b[1;33m\u001b[0m\u001b[0m\n",
      "\u001b[1;32mC:\\Users\\lucki\\WORK\\Anaconda3\\envs\\z-m\\lib\\site-packages\\matplotlib\\axes\\_axes.py\u001b[0m in \u001b[0;36mplot\u001b[1;34m(self, scalex, scaley, data, *args, **kwargs)\u001b[0m\n\u001b[0;32m   1741\u001b[0m         \"\"\"\n\u001b[0;32m   1742\u001b[0m         \u001b[0mkwargs\u001b[0m \u001b[1;33m=\u001b[0m \u001b[0mcbook\u001b[0m\u001b[1;33m.\u001b[0m\u001b[0mnormalize_kwargs\u001b[0m\u001b[1;33m(\u001b[0m\u001b[0mkwargs\u001b[0m\u001b[1;33m,\u001b[0m \u001b[0mmlines\u001b[0m\u001b[1;33m.\u001b[0m\u001b[0mLine2D\u001b[0m\u001b[1;33m)\u001b[0m\u001b[1;33m\u001b[0m\u001b[1;33m\u001b[0m\u001b[0m\n\u001b[1;32m-> 1743\u001b[1;33m         \u001b[0mlines\u001b[0m \u001b[1;33m=\u001b[0m \u001b[1;33m[\u001b[0m\u001b[1;33m*\u001b[0m\u001b[0mself\u001b[0m\u001b[1;33m.\u001b[0m\u001b[0m_get_lines\u001b[0m\u001b[1;33m(\u001b[0m\u001b[1;33m*\u001b[0m\u001b[0margs\u001b[0m\u001b[1;33m,\u001b[0m \u001b[0mdata\u001b[0m\u001b[1;33m=\u001b[0m\u001b[0mdata\u001b[0m\u001b[1;33m,\u001b[0m \u001b[1;33m**\u001b[0m\u001b[0mkwargs\u001b[0m\u001b[1;33m)\u001b[0m\u001b[1;33m]\u001b[0m\u001b[1;33m\u001b[0m\u001b[1;33m\u001b[0m\u001b[0m\n\u001b[0m\u001b[0;32m   1744\u001b[0m         \u001b[1;32mfor\u001b[0m \u001b[0mline\u001b[0m \u001b[1;32min\u001b[0m \u001b[0mlines\u001b[0m\u001b[1;33m:\u001b[0m\u001b[1;33m\u001b[0m\u001b[1;33m\u001b[0m\u001b[0m\n\u001b[0;32m   1745\u001b[0m             \u001b[0mself\u001b[0m\u001b[1;33m.\u001b[0m\u001b[0madd_line\u001b[0m\u001b[1;33m(\u001b[0m\u001b[0mline\u001b[0m\u001b[1;33m)\u001b[0m\u001b[1;33m\u001b[0m\u001b[1;33m\u001b[0m\u001b[0m\n",
      "\u001b[1;32mC:\\Users\\lucki\\WORK\\Anaconda3\\envs\\z-m\\lib\\site-packages\\matplotlib\\axes\\_base.py\u001b[0m in \u001b[0;36m__call__\u001b[1;34m(self, data, *args, **kwargs)\u001b[0m\n\u001b[0;32m    271\u001b[0m                 \u001b[0mthis\u001b[0m \u001b[1;33m+=\u001b[0m \u001b[0margs\u001b[0m\u001b[1;33m[\u001b[0m\u001b[1;36m0\u001b[0m\u001b[1;33m]\u001b[0m\u001b[1;33m,\u001b[0m\u001b[1;33m\u001b[0m\u001b[1;33m\u001b[0m\u001b[0m\n\u001b[0;32m    272\u001b[0m                 \u001b[0margs\u001b[0m \u001b[1;33m=\u001b[0m \u001b[0margs\u001b[0m\u001b[1;33m[\u001b[0m\u001b[1;36m1\u001b[0m\u001b[1;33m:\u001b[0m\u001b[1;33m]\u001b[0m\u001b[1;33m\u001b[0m\u001b[1;33m\u001b[0m\u001b[0m\n\u001b[1;32m--> 273\u001b[1;33m             \u001b[1;32myield\u001b[0m \u001b[1;32mfrom\u001b[0m \u001b[0mself\u001b[0m\u001b[1;33m.\u001b[0m\u001b[0m_plot_args\u001b[0m\u001b[1;33m(\u001b[0m\u001b[0mthis\u001b[0m\u001b[1;33m,\u001b[0m \u001b[0mkwargs\u001b[0m\u001b[1;33m)\u001b[0m\u001b[1;33m\u001b[0m\u001b[1;33m\u001b[0m\u001b[0m\n\u001b[0m\u001b[0;32m    274\u001b[0m \u001b[1;33m\u001b[0m\u001b[0m\n\u001b[0;32m    275\u001b[0m     \u001b[1;32mdef\u001b[0m \u001b[0mget_next_color\u001b[0m\u001b[1;33m(\u001b[0m\u001b[0mself\u001b[0m\u001b[1;33m)\u001b[0m\u001b[1;33m:\u001b[0m\u001b[1;33m\u001b[0m\u001b[1;33m\u001b[0m\u001b[0m\n",
      "\u001b[1;32mC:\\Users\\lucki\\WORK\\Anaconda3\\envs\\z-m\\lib\\site-packages\\matplotlib\\axes\\_base.py\u001b[0m in \u001b[0;36m_plot_args\u001b[1;34m(self, tup, kwargs)\u001b[0m\n\u001b[0;32m    397\u001b[0m \u001b[1;33m\u001b[0m\u001b[0m\n\u001b[0;32m    398\u001b[0m         \u001b[1;32mif\u001b[0m \u001b[0mx\u001b[0m\u001b[1;33m.\u001b[0m\u001b[0mshape\u001b[0m\u001b[1;33m[\u001b[0m\u001b[1;36m0\u001b[0m\u001b[1;33m]\u001b[0m \u001b[1;33m!=\u001b[0m \u001b[0my\u001b[0m\u001b[1;33m.\u001b[0m\u001b[0mshape\u001b[0m\u001b[1;33m[\u001b[0m\u001b[1;36m0\u001b[0m\u001b[1;33m]\u001b[0m\u001b[1;33m:\u001b[0m\u001b[1;33m\u001b[0m\u001b[1;33m\u001b[0m\u001b[0m\n\u001b[1;32m--> 399\u001b[1;33m             raise ValueError(f\"x and y must have same first dimension, but \"\n\u001b[0m\u001b[0;32m    400\u001b[0m                              f\"have shapes {x.shape} and {y.shape}\")\n\u001b[0;32m    401\u001b[0m         \u001b[1;32mif\u001b[0m \u001b[0mx\u001b[0m\u001b[1;33m.\u001b[0m\u001b[0mndim\u001b[0m \u001b[1;33m>\u001b[0m \u001b[1;36m2\u001b[0m \u001b[1;32mor\u001b[0m \u001b[0my\u001b[0m\u001b[1;33m.\u001b[0m\u001b[0mndim\u001b[0m \u001b[1;33m>\u001b[0m \u001b[1;36m2\u001b[0m\u001b[1;33m:\u001b[0m\u001b[1;33m\u001b[0m\u001b[1;33m\u001b[0m\u001b[0m\n",
      "\u001b[1;31mValueError\u001b[0m: x and y must have same first dimension, but have shapes (100,) and (1485, 1)"
     ]
    },
    {
     "data": {
      "image/png": "[encoded data removed]",
      "text/plain": [
       "<Figure size 432x288 with 1 Axes>"
      ]
     },
     "metadata": {
      "needs_background": "light"
     },
     "output_type": "display_data"
    }
   ],
   "source": [
    "plt.plot(day_new,scaler.inverse_transform(df1[1158:]))\n",
    "plt.plot(day_pred,scaler.inverse_transform(lst_output))"
   ]
  },
  {
   "cell_type": "code",
   "execution_count": 46,
   "metadata": {},
   "outputs": [
    {
     "data": {
      "text/plain": [
       "[<matplotlib.lines.Line2D at 0x252b3f49748>]"
      ]
     },
     "execution_count": 46,
     "metadata": {},
     "output_type": "execute_result"
    },
    {
     "data": {
      "image/png": "[encoded data removed]",
      "text/plain": [
       "<Figure size 432x288 with 1 Axes>"
      ]
     },
     "metadata": {
      "needs_background": "light"
     },
     "output_type": "display_data"
    }
   ],
   "source": [
    "df3=df1.tolist()\n",
    "df3.extend(lst_output)\n",
    "plt.plot(df3[1200:])"
   ]
  },
  {
   "cell_type": "code",
   "execution_count": 47,
   "metadata": {},
   "outputs": [],
   "source": [
    "df3=scaler.inverse_transform(df3).tolist()"
   ]
  },
  {
   "cell_type": "code",
   "execution_count": 48,
   "metadata": {},
   "outputs": [
    {
     "data": {
      "text/plain": [
       "[<matplotlib.lines.Line2D at 0x252b3ab2c48>]"
      ]
     },
     "execution_count": 48,
     "metadata": {},
     "output_type": "execute_result"
    },
    {
     "data": {
      "image/png": "[encoded data removed]",
      "text/plain": [
       "<Figure size 432x288 with 1 Axes>"
      ]
     },
     "metadata": {
      "needs_background": "light"
     },
     "output_type": "display_data"
    }
   ],
   "source": [
    "plt.plot(df3)"
   ]
  },
  {
   "cell_type": "code",
   "execution_count": null,
   "metadata": {},
   "outputs": [],
   "source": []
  },
  {
   "cell_type": "code",
   "execution_count": null,
   "metadata": {},
   "outputs": [],
   "source": []
  }
 ],
 "metadata": {
  "kernelspec": {
   "display_name": "Python 3",
   "language": "python",
   "name": "python3"
  },
  "language_info": {
   "codemirror_mode": {
    "name": "ipython",
    "version": 3
   },
   "file_extension": ".py",
   "mimetype": "text/x-python",
   "name": "python",
   "nbconvert_exporter": "python",
   "pygments_lexer": "ipython3",
   "version": "3.7.8"
  }
 },
 "nbformat": 4,
 "nbformat_minor": 4
}
