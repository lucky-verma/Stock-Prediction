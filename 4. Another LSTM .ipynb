{
 "cells": [
  {
   "cell_type": "markdown",
   "metadata": {},
   "source": [
    "Ref: https://github.com/NourozR/Stock-Price-Prediction-LSTM"
   ]
  },
  {
   "cell_type": "code",
   "execution_count": null,
   "metadata": {},
   "outputs": [],
   "source": [
    "# import numpy as np \n",
    "\n",
    "\n",
    "# # FUNCTION TO CREATE 1D DATA INTO TIME SERIES DATASET\n",
    "# def new_dataset(dataset, step_size):\n",
    "# \tdata_X, data_Y = [], []\n",
    "# \tfor i in range(len(dataset)-step_size-1):\n",
    "# \t\ta = dataset[i:(i+step_size), 0]\n",
    "# \t\tdata_X.append(a)\n",
    "# \t\tdata_Y.append(dataset[i + step_size, 0])\n",
    "# \treturn np.array(data_X), np.array(data_Y)\n",
    "\n",
    "# # THIS FUNCTION CAN BE USED TO CREATE A TIME SERIES DATASET FROM ANY 1D ARRAY\t"
   ]
  },
  {
   "cell_type": "code",
   "execution_count": 2,
   "metadata": {},
   "outputs": [],
   "source": [
    "# IMPORTING IMPORTANT LIBRARIES\n",
    "import pandas as pd\n",
    "import matplotlib.pyplot as plt\n",
    "import numpy as np \n",
    "import math\n",
    "from sklearn.preprocessing import MinMaxScaler\n",
    "from sklearn.metrics import mean_squared_error\n",
    "from keras.models import Sequential\n",
    "from keras.layers import Dense, Activation, Dropout\n",
    "from keras.layers import LSTM\n",
    "import preprocessing "
   ]
  },
  {
   "cell_type": "code",
   "execution_count": 3,
   "metadata": {},
   "outputs": [
    {
     "data": {
      "image/png": "[encoded data removed]",
      "text/plain": [
       "<Figure size 432x288 with 1 Axes>"
      ]
     },
     "metadata": {
      "needs_background": "light"
     },
     "output_type": "display_data"
    }
   ],
   "source": [
    "# FOR REPRODUCIBILITY\n",
    "np.random.seed(7)\n",
    "\n",
    "# IMPORTING DATASET \n",
    "dataset = pd.read_csv('apple_share_price.csv', usecols=[1,2,3,4])\n",
    "dataset = dataset.reindex(index = dataset.index[::-1])\n",
    "\n",
    "# CREATING OWN INDEX FOR FLEXIBILITY\n",
    "obs = np.arange(1, len(dataset) + 1, 1)\n",
    "\n",
    "# TAKING DIFFERENT INDICATORS FOR PREDICTION\n",
    "OHLC_avg = dataset.mean(axis = 1)\n",
    "HLC_avg = dataset[['High', 'Low', 'Close']].mean(axis = 1)\n",
    "close_val = dataset[['Close']]\n",
    "\n",
    "# PLOTTING ALL INDICATORS IN ONE PLOT\n",
    "plt.plot(obs, OHLC_avg, 'r', label = 'OHLC avg')\n",
    "plt.plot(obs, HLC_avg, 'b', label = 'HLC avg')\n",
    "plt.plot(obs, close_val, 'g', label = 'Closing price')\n",
    "plt.legend(loc = 'upper right')\n",
    "plt.show()"
   ]
  },
  {
   "cell_type": "code",
   "execution_count": 4,
   "metadata": {},
   "outputs": [],
   "source": [
    "# PREPARATION OF TIME SERIES DATASE\n",
    "OHLC_avg = np.reshape(OHLC_avg.values, (len(OHLC_avg),1)) # 1664\n",
    "scaler = MinMaxScaler(feature_range=(0, 1))\n",
    "OHLC_avg = scaler.fit_transform(OHLC_avg)\n",
    "\n",
    "# TRAIN-TEST SPLIT\n",
    "train_OHLC = int(len(OHLC_avg) * 0.75)\n",
    "test_OHLC = len(OHLC_avg) - train_OHLC\n",
    "train_OHLC, test_OHLC = OHLC_avg[0:train_OHLC,:], OHLC_avg[train_OHLC:len(OHLC_avg),:]\n",
    "\n",
    "# TIME-SERIES DATASET (FOR TIME T, VALUES FOR TIME T+1)\n",
    "trainX, trainY = preprocessing.new_dataset(train_OHLC, 1)\n",
    "testX, testY = preprocessing.new_dataset(test_OHLC, 1)\n",
    "\n",
    "# RESHAPING TRAIN AND TEST DATA\n",
    "trainX = np.reshape(trainX, (trainX.shape[0], 1, trainX.shape[1]))\n",
    "testX = np.reshape(testX, (testX.shape[0], 1, testX.shape[1]))\n",
    "step_size = 1"
   ]
  },
  {
   "cell_type": "code",
   "execution_count": 5,
   "metadata": {
    "collapsed": true,
    "jupyter": {
     "outputs_hidden": true
    }
   },
   "outputs": [
    {
     "name": "stdout",
     "output_type": "stream",
     "text": [
      "Epoch 1/100\n",
      "1246/1246 - 3s - loss: 0.1076\n",
      "Epoch 2/100\n",
      "1246/1246 - 1s - loss: 0.0806\n",
      "Epoch 3/100\n",
      "1246/1246 - 1s - loss: 0.0724\n",
      "Epoch 4/100\n",
      "1246/1246 - 1s - loss: 0.0689\n",
      "Epoch 5/100\n",
      "1246/1246 - 1s - loss: 0.0677\n",
      "Epoch 6/100\n",
      "1246/1246 - 1s - loss: 0.0650\n",
      "Epoch 7/100\n",
      "1246/1246 - 1s - loss: 0.0633\n",
      "Epoch 8/100\n",
      "1246/1246 - 1s - loss: 0.0645\n",
      "Epoch 9/100\n",
      "1246/1246 - 1s - loss: 0.0610\n",
      "Epoch 10/100\n",
      "1246/1246 - 1s - loss: 0.0645\n",
      "Epoch 11/100\n",
      "1246/1246 - 1s - loss: 0.0638\n",
      "Epoch 12/100\n",
      "1246/1246 - 1s - loss: 0.0655\n",
      "Epoch 13/100\n",
      "1246/1246 - 1s - loss: 0.0633\n",
      "Epoch 14/100\n",
      "1246/1246 - 1s - loss: 0.0614\n",
      "Epoch 15/100\n",
      "1246/1246 - 1s - loss: 0.0596\n",
      "Epoch 16/100\n",
      "1246/1246 - 1s - loss: 0.0609\n",
      "Epoch 17/100\n",
      "1246/1246 - 1s - loss: 0.0604\n",
      "Epoch 18/100\n",
      "1246/1246 - 1s - loss: 0.0560\n",
      "Epoch 19/100\n",
      "1246/1246 - 1s - loss: 0.0619\n",
      "Epoch 20/100\n",
      "1246/1246 - 1s - loss: 0.0593\n",
      "Epoch 21/100\n",
      "1246/1246 - 1s - loss: 0.0563\n",
      "Epoch 22/100\n",
      "1246/1246 - 1s - loss: 0.0563\n",
      "Epoch 23/100\n",
      "1246/1246 - 1s - loss: 0.0598\n",
      "Epoch 24/100\n",
      "1246/1246 - 1s - loss: 0.0602\n",
      "Epoch 25/100\n",
      "1246/1246 - 1s - loss: 0.0538\n",
      "Epoch 26/100\n",
      "1246/1246 - 1s - loss: 0.0586\n",
      "Epoch 27/100\n",
      "1246/1246 - 1s - loss: 0.0555\n",
      "Epoch 28/100\n",
      "1246/1246 - 1s - loss: 0.0539\n",
      "Epoch 29/100\n",
      "1246/1246 - 1s - loss: 0.0531\n",
      "Epoch 30/100\n",
      "1246/1246 - 1s - loss: 0.0544\n",
      "Epoch 31/100\n",
      "1246/1246 - 1s - loss: 0.0540\n",
      "Epoch 32/100\n",
      "1246/1246 - 1s - loss: 0.0573\n",
      "Epoch 33/100\n",
      "1246/1246 - 1s - loss: 0.0538\n",
      "Epoch 34/100\n",
      "1246/1246 - 1s - loss: 0.0516\n",
      "Epoch 35/100\n",
      "1246/1246 - 1s - loss: 0.0504\n",
      "Epoch 36/100\n",
      "1246/1246 - 1s - loss: 0.0553\n",
      "Epoch 37/100\n",
      "1246/1246 - 1s - loss: 0.0516\n",
      "Epoch 38/100\n",
      "1246/1246 - 1s - loss: 0.0536\n",
      "Epoch 39/100\n",
      "1246/1246 - 1s - loss: 0.0528\n",
      "Epoch 40/100\n",
      "1246/1246 - 1s - loss: 0.0490\n",
      "Epoch 41/100\n",
      "1246/1246 - 1s - loss: 0.0496\n",
      "Epoch 42/100\n",
      "1246/1246 - 1s - loss: 0.0486\n",
      "Epoch 43/100\n",
      "1246/1246 - 1s - loss: 0.0486\n",
      "Epoch 44/100\n",
      "1246/1246 - 1s - loss: 0.0483\n",
      "Epoch 45/100\n",
      "1246/1246 - 1s - loss: 0.0499\n",
      "Epoch 46/100\n",
      "1246/1246 - 1s - loss: 0.0504\n",
      "Epoch 47/100\n",
      "1246/1246 - 1s - loss: 0.0491\n",
      "Epoch 48/100\n",
      "1246/1246 - 1s - loss: 0.0475\n",
      "Epoch 49/100\n",
      "1246/1246 - 1s - loss: 0.0475\n",
      "Epoch 50/100\n",
      "1246/1246 - 1s - loss: 0.0514\n",
      "Epoch 51/100\n",
      "1246/1246 - 1s - loss: 0.0430\n",
      "Epoch 52/100\n",
      "1246/1246 - 1s - loss: 0.0459\n",
      "Epoch 53/100\n",
      "1246/1246 - 1s - loss: 0.0454\n",
      "Epoch 54/100\n",
      "1246/1246 - 1s - loss: 0.0439\n",
      "Epoch 55/100\n",
      "1246/1246 - 1s - loss: 0.0411\n",
      "Epoch 56/100\n",
      "1246/1246 - 1s - loss: 0.0464\n",
      "Epoch 57/100\n",
      "1246/1246 - 1s - loss: 0.0415\n",
      "Epoch 58/100\n",
      "1246/1246 - 1s - loss: 0.0406\n",
      "Epoch 59/100\n",
      "1246/1246 - 1s - loss: 0.0397\n",
      "Epoch 60/100\n",
      "1246/1246 - 1s - loss: 0.0434\n",
      "Epoch 61/100\n",
      "1246/1246 - 1s - loss: 0.0426\n",
      "Epoch 62/100\n",
      "1246/1246 - 1s - loss: 0.0442\n",
      "Epoch 63/100\n",
      "1246/1246 - 1s - loss: 0.0452\n",
      "Epoch 64/100\n",
      "1246/1246 - 1s - loss: 0.0436\n",
      "Epoch 65/100\n",
      "1246/1246 - 1s - loss: 0.0396\n",
      "Epoch 66/100\n",
      "1246/1246 - 1s - loss: 0.0402\n",
      "Epoch 67/100\n",
      "1246/1246 - 1s - loss: 0.0402\n",
      "Epoch 68/100\n",
      "1246/1246 - 1s - loss: 0.0362\n",
      "Epoch 69/100\n",
      "1246/1246 - 1s - loss: 0.0384\n",
      "Epoch 70/100\n",
      "1246/1246 - 1s - loss: 0.0383\n",
      "Epoch 71/100\n",
      "1246/1246 - 1s - loss: 0.0415\n",
      "Epoch 72/100\n",
      "1246/1246 - 1s - loss: 0.0328\n",
      "Epoch 73/100\n",
      "1246/1246 - 1s - loss: 0.0416\n",
      "Epoch 74/100\n",
      "1246/1246 - 1s - loss: 0.0355\n",
      "Epoch 75/100\n",
      "1246/1246 - 1s - loss: 0.0362\n",
      "Epoch 76/100\n",
      "1246/1246 - 1s - loss: 0.0359\n",
      "Epoch 77/100\n",
      "1246/1246 - 1s - loss: 0.0355\n",
      "Epoch 78/100\n",
      "1246/1246 - 1s - loss: 0.0324\n",
      "Epoch 79/100\n",
      "1246/1246 - 1s - loss: 0.0340\n",
      "Epoch 80/100\n",
      "1246/1246 - 1s - loss: 0.0373\n",
      "Epoch 81/100\n",
      "1246/1246 - 1s - loss: 0.0348\n",
      "Epoch 82/100\n",
      "1246/1246 - 1s - loss: 0.0290\n",
      "Epoch 83/100\n",
      "1246/1246 - 1s - loss: 0.0320\n",
      "Epoch 84/100\n",
      "1246/1246 - 1s - loss: 0.0344\n",
      "Epoch 85/100\n",
      "1246/1246 - 1s - loss: 0.0315\n",
      "Epoch 86/100\n",
      "1246/1246 - 1s - loss: 0.0323\n",
      "Epoch 87/100\n",
      "1246/1246 - 1s - loss: 0.0392\n",
      "Epoch 88/100\n",
      "1246/1246 - 1s - loss: 0.0356\n",
      "Epoch 89/100\n",
      "1246/1246 - 1s - loss: 0.0332\n",
      "Epoch 90/100\n",
      "1246/1246 - 1s - loss: 0.0339\n",
      "Epoch 91/100\n",
      "1246/1246 - 1s - loss: 0.0307\n",
      "Epoch 92/100\n",
      "1246/1246 - 1s - loss: 0.0306\n",
      "Epoch 93/100\n",
      "1246/1246 - 1s - loss: 0.0310\n",
      "Epoch 94/100\n",
      "1246/1246 - 1s - loss: 0.0310\n",
      "Epoch 95/100\n",
      "1246/1246 - 1s - loss: 0.0368\n",
      "Epoch 96/100\n",
      "1246/1246 - 1s - loss: 0.0370\n",
      "Epoch 97/100\n",
      "1246/1246 - 1s - loss: 0.0294\n",
      "Epoch 98/100\n",
      "1246/1246 - 1s - loss: 0.0274\n",
      "Epoch 99/100\n",
      "1246/1246 - 1s - loss: 0.0297\n",
      "Epoch 100/100\n",
      "1246/1246 - 1s - loss: 0.0342\n"
     ]
    }
   ],
   "source": [
    "# LSTM MODEL\n",
    "model = Sequential()\n",
    "model.add(LSTM(64, input_shape=(1, step_size), return_sequences = True))\n",
    "model.add(LSTM(32))\n",
    "model.add(Dense(1))\n",
    "model.add(Dropout(0.2))\n",
    "model.add(Activation('linear'))\n",
    "\n",
    "# MODEL COMPILING AND TRAINING\n",
    "model.compile(loss='mean_squared_error', optimizer='adagrad') # Try SGD, adam, adagrad and compare!!!\n",
    "model.fit(trainX, trainY, epochs=100, batch_size=1, verbose=2)\n",
    "\n",
    "# PREDICTION\n",
    "trainPredict = model.predict(trainX)\n",
    "testPredict = model.predict(testX)\n",
    "\n",
    "# DE-NORMALIZING FOR PLOTTING\n",
    "trainPredict = scaler.inverse_transform(trainPredict)\n",
    "trainY = scaler.inverse_transform([trainY])\n",
    "testPredict = scaler.inverse_transform(testPredict)\n",
    "testY = scaler.inverse_transform([testY])"
   ]
  },
  {
   "cell_type": "code",
   "execution_count": 6,
   "metadata": {},
   "outputs": [
    {
     "name": "stdout",
     "output_type": "stream",
     "text": [
      "Train RMSE: 11.07\n",
      "Test RMSE: 20.84\n"
     ]
    }
   ],
   "source": [
    "# TRAINING RMSE\n",
    "trainScore = math.sqrt(mean_squared_error(trainY[0], trainPredict[:,0]))\n",
    "print('Train RMSE: %.2f' % (trainScore))\n",
    "\n",
    "# TEST RMSE\n",
    "testScore = math.sqrt(mean_squared_error(testY[0], testPredict[:,0]))\n",
    "print('Test RMSE: %.2f' % (testScore))"
   ]
  },
  {
   "cell_type": "code",
   "execution_count": 7,
   "metadata": {},
   "outputs": [],
   "source": [
    "# CREATING SIMILAR DATASET TO PLOT TRAINING PREDICTIONS\n",
    "trainPredictPlot = np.empty_like(OHLC_avg)\n",
    "trainPredictPlot[:, :] = np.nan\n",
    "trainPredictPlot[step_size:len(trainPredict)+step_size, :] = trainPredict\n",
    "\n",
    "# CREATING SIMILAR DATASSET TO PLOT TEST PREDICTIONS\n",
    "testPredictPlot = np.empty_like(OHLC_avg)\n",
    "testPredictPlot[:, :] = np.nan\n",
    "testPredictPlot[len(trainPredict)+(step_size*2)+1:len(OHLC_avg)-1, :] = testPredict\n",
    "\n",
    "# DE-NORMALIZING MAIN DATASET \n",
    "OHLC_avg = scaler.inverse_transform(OHLC_avg)"
   ]
  },
  {
   "cell_type": "code",
   "execution_count": 8,
   "metadata": {},
   "outputs": [
    {
     "data": {
      "image/png": "[encoded data removed]",
      "text/plain": [
       "<Figure size 432x288 with 1 Axes>"
      ]
     },
     "metadata": {
      "needs_background": "light"
     },
     "output_type": "display_data"
    }
   ],
   "source": [
    "# PLOT OF MAIN OHLC VALUES, TRAIN PREDICTIONS AND TEST PREDICTIONS\n",
    "plt.plot(OHLC_avg, 'g', label = 'original dataset')\n",
    "plt.plot(trainPredictPlot, 'r', label = 'training set')\n",
    "plt.plot(testPredictPlot, 'b', label = 'predicted stock price/test set')\n",
    "plt.legend(loc = 'upper right')\n",
    "plt.xlabel('Time in Days')\n",
    "plt.ylabel('OHLC Value of Apple Stocks')\n",
    "plt.show()"
   ]
  },
  {
   "cell_type": "code",
   "execution_count": 9,
   "metadata": {},
   "outputs": [
    {
     "name": "stdout",
     "output_type": "stream",
     "text": [
      "Last Day Value: 125.32864379882812\n",
      "Next Day Value: 87.39875793457031\n"
     ]
    },
    {
     "name": "stderr",
     "output_type": "stream",
     "text": [
      "C:\\Users\\lucki\\WORK\\Anaconda3\\envs\\z-m\\lib\\site-packages\\ipykernel_launcher.py:5: DeprecationWarning: np.asscalar(a) is deprecated since NumPy v1.16, use a.item() instead\n",
      "  \"\"\"\n",
      "C:\\Users\\lucki\\WORK\\Anaconda3\\envs\\z-m\\lib\\site-packages\\ipykernel_launcher.py:6: DeprecationWarning: np.asscalar(a) is deprecated since NumPy v1.16, use a.item() instead\n",
      "  \n"
     ]
    }
   ],
   "source": [
    "# PREDICT FUTURE VALUES\n",
    "last_val = testPredict[-1]\n",
    "last_val_scaled = last_val/last_val\n",
    "next_val = model.predict(np.reshape(last_val_scaled, (1,1,1)))\n",
    "print(\"Last Day Value:\", np.asscalar(last_val));\n",
    "print(\"Next Day Value:\", np.asscalar(last_val*next_val));\n",
    "# print np.append(last_val, next_val)"
   ]
  },
  {
   "cell_type": "code",
   "execution_count": null,
   "metadata": {},
   "outputs": [],
   "source": []
  }
 ],
 "metadata": {
  "kernelspec": {
   "display_name": "Python 3",
   "language": "python",
   "name": "python3"
  },
  "language_info": {
   "codemirror_mode": {
    "name": "ipython",
    "version": 3
   },
   "file_extension": ".py",
   "mimetype": "text/x-python",
   "name": "python",
   "nbconvert_exporter": "python",
   "pygments_lexer": "ipython3",
   "version": "3.7.8"
  }
 },
 "nbformat": 4,
 "nbformat_minor": 4
}
