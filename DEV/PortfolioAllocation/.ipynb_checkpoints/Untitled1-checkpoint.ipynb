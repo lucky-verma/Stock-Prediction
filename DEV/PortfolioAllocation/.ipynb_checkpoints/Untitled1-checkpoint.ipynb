{
 "cells": [
  {
   "cell_type": "code",
   "execution_count": null,
   "id": "clean-coffee",
   "metadata": {},
   "outputs": [],
   "source": [
    "with open(r\"C:\\Users\\lucki\\WORK\\OFFICE\\TandM\\VISE\\Historical-Data\\data\\final_dump\\Companies + Indexes Tokens\\NSE (YF ticker).txt\", \"r\") as grilled_cheese:\n",
    "    lines = grilled_cheese.readlines()\n",
    "    ingredients = []\n",
    "\n",
    "    for l in lines:\n",
    "            ingredients.append(l.replace(\"\\n\", \"\"))\n",
    "\n",
    "    print(ingredients)"
   ]
  },
  {
   "cell_type": "code",
   "execution_count": 9,
   "id": "nuclear-overhead",
   "metadata": {},
   "outputs": [
    {
     "data": {
      "text/plain": [
       "['20MICRONS.NS', '21STCENMGM.NS', '3IINFOTECH.NS']"
      ]
     },
     "execution_count": 9,
     "metadata": {},
     "output_type": "execute_result"
    }
   ],
   "source": [
    "ingredients[:3]"
   ]
  },
  {
   "cell_type": "code",
   "execution_count": 10,
   "id": "native-mapping",
   "metadata": {},
   "outputs": [
    {
     "name": "stdout",
     "output_type": "stream",
     "text": [
      "Collecting riskfolio-lib\n",
      "  Downloading Riskfolio_Lib-0.3.0.1-py3-none-any.whl (56 kB)\n",
      "Requirement already satisfied: scikit-learn>=0.22.0 in c:\\users\\lucki\\work\\anaconda3\\envs\\stock\\lib\\site-packages (from riskfolio-lib) (0.24.1)\n",
      "Collecting statsmodels>=0.10.1\n",
      "  Downloading statsmodels-0.12.2-cp37-none-win_amd64.whl (9.3 MB)\n",
      "Collecting xlsxwriter>=1.3.7\n",
      "  Downloading XlsxWriter-1.4.3-py2.py3-none-any.whl (149 kB)\n",
      "Requirement already satisfied: matplotlib>=3.3.0 in c:\\users\\lucki\\work\\anaconda3\\envs\\stock\\lib\\site-packages (from riskfolio-lib) (3.3.4)\n",
      "Requirement already satisfied: numpy>=1.17.0 in c:\\users\\lucki\\work\\anaconda3\\envs\\stock\\lib\\site-packages (from riskfolio-lib) (1.20.1)\n",
      "Requirement already satisfied: pandas>=1.0.0 in c:\\users\\lucki\\appdata\\roaming\\python\\python37\\site-packages (from riskfolio-lib) (1.0.5)\n",
      "Requirement already satisfied: cvxpy>=1.0.25 in c:\\users\\lucki\\work\\anaconda3\\envs\\stock\\lib\\site-packages (from riskfolio-lib) (1.1.10)\n",
      "Collecting arch>=4.15\n",
      "  Downloading arch-4.19-cp37-cp37m-win_amd64.whl (783 kB)\n",
      "Requirement already satisfied: scipy>=1.0.1 in c:\\users\\lucki\\appdata\\roaming\\python\\python37\\site-packages (from riskfolio-lib) (1.5.4)\n",
      "Collecting property-cached>=1.6.4\n",
      "  Downloading property_cached-1.6.4-py2.py3-none-any.whl (7.8 kB)\n",
      "Collecting cython>=0.29.14\n",
      "  Downloading Cython-0.29.23-cp37-cp37m-win_amd64.whl (1.6 MB)\n",
      "Requirement already satisfied: osqp>=0.4.1 in c:\\users\\lucki\\work\\anaconda3\\envs\\stock\\lib\\site-packages (from cvxpy>=1.0.25->riskfolio-lib) (0.6.2.post0)\n",
      "Requirement already satisfied: ecos>=2 in c:\\users\\lucki\\work\\anaconda3\\envs\\stock\\lib\\site-packages (from cvxpy>=1.0.25->riskfolio-lib) (2.0.7.post1)\n",
      "Requirement already satisfied: scs>=1.1.6 in c:\\users\\lucki\\work\\anaconda3\\envs\\stock\\lib\\site-packages (from cvxpy>=1.0.25->riskfolio-lib) (2.1.2)\n",
      "Requirement already satisfied: python-dateutil>=2.1 in c:\\users\\lucki\\work\\anaconda3\\envs\\stock\\lib\\site-packages (from matplotlib>=3.3.0->riskfolio-lib) (2.8.1)\n",
      "Requirement already satisfied: cycler>=0.10 in c:\\users\\lucki\\work\\anaconda3\\envs\\stock\\lib\\site-packages (from matplotlib>=3.3.0->riskfolio-lib) (0.10.0)\n",
      "Requirement already satisfied: kiwisolver>=1.0.1 in c:\\users\\lucki\\work\\anaconda3\\envs\\stock\\lib\\site-packages (from matplotlib>=3.3.0->riskfolio-lib) (1.3.1)\n",
      "Requirement already satisfied: pyparsing!=2.0.4,!=2.1.2,!=2.1.6,>=2.0.3 in c:\\users\\lucki\\work\\anaconda3\\envs\\stock\\lib\\site-packages (from matplotlib>=3.3.0->riskfolio-lib) (2.4.7)\n",
      "Requirement already satisfied: pillow>=6.2.0 in c:\\users\\lucki\\work\\anaconda3\\envs\\stock\\lib\\site-packages (from matplotlib>=3.3.0->riskfolio-lib) (8.1.0)\n",
      "Requirement already satisfied: six in c:\\users\\lucki\\work\\anaconda3\\envs\\stock\\lib\\site-packages (from cycler>=0.10->matplotlib>=3.3.0->riskfolio-lib) (1.16.0)\n",
      "Requirement already satisfied: qdldl in c:\\users\\lucki\\work\\anaconda3\\envs\\stock\\lib\\site-packages (from osqp>=0.4.1->cvxpy>=1.0.25->riskfolio-lib) (0.1.5.post0)\n",
      "Requirement already satisfied: pytz>=2017.2 in c:\\users\\lucki\\work\\anaconda3\\envs\\stock\\lib\\site-packages (from pandas>=1.0.0->riskfolio-lib) (2021.1)\n",
      "Requirement already satisfied: threadpoolctl>=2.0.0 in c:\\users\\lucki\\work\\anaconda3\\envs\\stock\\lib\\site-packages (from scikit-learn>=0.22.0->riskfolio-lib) (2.1.0)\n",
      "Requirement already satisfied: joblib>=0.11 in c:\\users\\lucki\\work\\anaconda3\\envs\\stock\\lib\\site-packages (from scikit-learn>=0.22.0->riskfolio-lib) (1.0.1)\n",
      "Collecting patsy>=0.5\n",
      "  Using cached patsy-0.5.1-py2.py3-none-any.whl (231 kB)\n",
      "Installing collected packages: patsy, statsmodels, property-cached, cython, xlsxwriter, arch, riskfolio-lib\n",
      "Successfully installed arch-4.19 cython-0.29.23 patsy-0.5.1 property-cached-1.6.4 riskfolio-lib-0.3.0.1 statsmodels-0.12.2 xlsxwriter-1.4.3\n"
     ]
    }
   ],
   "source": [
    "!pip install riskfolio-lib"
   ]
  },
  {
   "cell_type": "code",
   "execution_count": 196,
   "id": "victorian-newport",
   "metadata": {
    "scrolled": true,
    "tags": []
   },
   "outputs": [
    {
     "name": "stdout",
     "output_type": "stream",
     "text": [
      "[*********************100%***********************]  2 of 2 completed\n"
     ]
    }
   ],
   "source": [
    "import numpy as np\n",
    "import pandas as pd\n",
    "import yfinance as yf\n",
    "import warnings\n",
    "\n",
    "warnings.filterwarnings(\"ignore\")\n",
    "\n",
    "yf.pdr_override()\n",
    "pd.options.display.float_format = '{:.4%}'.format\n",
    "\n",
    "# Date range\n",
    "start = '2010-01-01'\n",
    "end = '2021-06-11'\n",
    "\n",
    "# Tickers of assets\n",
    "assets = ingredients[24:26]\n",
    "# assets.sort()\n",
    "\n",
    "# Downloading data\n",
    "data = yf.download(assets, start = start, end = end)\n",
    "data = data.loc[:,('Adj Close', slice(None))]\n",
    "data.columns = assets"
   ]
  },
  {
   "cell_type": "code",
   "execution_count": 197,
   "id": "broadband-forge",
   "metadata": {},
   "outputs": [
    {
     "data": {
      "text/html": [
       "<div>\n",
       "<style scoped>\n",
       "    .dataframe tbody tr th:only-of-type {\n",
       "        vertical-align: middle;\n",
       "    }\n",
       "\n",
       "    .dataframe tbody tr th {\n",
       "        vertical-align: top;\n",
       "    }\n",
       "\n",
       "    .dataframe thead th {\n",
       "        text-align: right;\n",
       "    }\n",
       "</style>\n",
       "<table border=\"1\" class=\"dataframe\">\n",
       "  <thead>\n",
       "    <tr style=\"text-align: right;\">\n",
       "      <th></th>\n",
       "      <th>ACRYSIL.NS</th>\n",
       "      <th>ADANIENT.NS</th>\n",
       "    </tr>\n",
       "    <tr>\n",
       "      <th>Date</th>\n",
       "      <th></th>\n",
       "      <th></th>\n",
       "    </tr>\n",
       "  </thead>\n",
       "  <tbody>\n",
       "    <tr>\n",
       "      <th>2010-01-04</th>\n",
       "      <td>nan%</td>\n",
       "      <td>5735.8597%</td>\n",
       "    </tr>\n",
       "    <tr>\n",
       "      <th>2010-01-05</th>\n",
       "      <td>nan%</td>\n",
       "      <td>5868.5875%</td>\n",
       "    </tr>\n",
       "  </tbody>\n",
       "</table>\n",
       "</div>"
      ],
      "text/plain": [
       "            ACRYSIL.NS  ADANIENT.NS\n",
       "Date                               \n",
       "2010-01-04        nan%   5735.8597%\n",
       "2010-01-05        nan%   5868.5875%"
      ]
     },
     "execution_count": 197,
     "metadata": {},
     "output_type": "execute_result"
    }
   ],
   "source": [
    "data.head(2)"
   ]
  },
  {
   "cell_type": "code",
   "execution_count": 211,
   "id": "guided-reservation",
   "metadata": {},
   "outputs": [
    {
     "data": {
      "text/html": [
       "<div>\n",
       "<style scoped>\n",
       "    .dataframe tbody tr th:only-of-type {\n",
       "        vertical-align: middle;\n",
       "    }\n",
       "\n",
       "    .dataframe tbody tr th {\n",
       "        vertical-align: top;\n",
       "    }\n",
       "\n",
       "    .dataframe thead th {\n",
       "        text-align: right;\n",
       "    }\n",
       "</style>\n",
       "<table border=\"1\" class=\"dataframe\">\n",
       "  <thead>\n",
       "    <tr style=\"text-align: right;\">\n",
       "      <th></th>\n",
       "      <th>ACRYSIL.NS</th>\n",
       "      <th>ADANIENT.NS</th>\n",
       "    </tr>\n",
       "    <tr>\n",
       "      <th>Date</th>\n",
       "      <th></th>\n",
       "      <th></th>\n",
       "    </tr>\n",
       "  </thead>\n",
       "  <tbody>\n",
       "    <tr>\n",
       "      <th>2021-01-15</th>\n",
       "      <td>-0.0251%</td>\n",
       "      <td>-0.9021%</td>\n",
       "    </tr>\n",
       "    <tr>\n",
       "      <th>2021-01-18</th>\n",
       "      <td>-3.5436%</td>\n",
       "      <td>-3.6886%</td>\n",
       "    </tr>\n",
       "    <tr>\n",
       "      <th>2021-01-19</th>\n",
       "      <td>0.9901%</td>\n",
       "      <td>4.3812%</td>\n",
       "    </tr>\n",
       "    <tr>\n",
       "      <th>2021-01-20</th>\n",
       "      <td>1.1352%</td>\n",
       "      <td>3.1409%</td>\n",
       "    </tr>\n",
       "    <tr>\n",
       "      <th>2021-01-21</th>\n",
       "      <td>-1.9388%</td>\n",
       "      <td>-1.8016%</td>\n",
       "    </tr>\n",
       "    <tr>\n",
       "      <th>...</th>\n",
       "      <td>...</td>\n",
       "      <td>...</td>\n",
       "    </tr>\n",
       "    <tr>\n",
       "      <th>2021-06-04</th>\n",
       "      <td>2.7352%</td>\n",
       "      <td>7.4443%</td>\n",
       "    </tr>\n",
       "    <tr>\n",
       "      <th>2021-06-07</th>\n",
       "      <td>-1.9258%</td>\n",
       "      <td>-4.5063%</td>\n",
       "    </tr>\n",
       "    <tr>\n",
       "      <th>2021-06-08</th>\n",
       "      <td>-2.8052%</td>\n",
       "      <td>0.7480%</td>\n",
       "    </tr>\n",
       "    <tr>\n",
       "      <th>2021-06-09</th>\n",
       "      <td>-3.9847%</td>\n",
       "      <td>-2.5543%</td>\n",
       "    </tr>\n",
       "    <tr>\n",
       "      <th>2021-06-10</th>\n",
       "      <td>2.0363%</td>\n",
       "      <td>1.0880%</td>\n",
       "    </tr>\n",
       "  </tbody>\n",
       "</table>\n",
       "<p>98 rows × 2 columns</p>\n",
       "</div>"
      ],
      "text/plain": [
       "            ACRYSIL.NS  ADANIENT.NS\n",
       "Date                               \n",
       "2021-01-15    -0.0251%     -0.9021%\n",
       "2021-01-18    -3.5436%     -3.6886%\n",
       "2021-01-19     0.9901%      4.3812%\n",
       "2021-01-20     1.1352%      3.1409%\n",
       "2021-01-21    -1.9388%     -1.8016%\n",
       "...                ...          ...\n",
       "2021-06-04     2.7352%      7.4443%\n",
       "2021-06-07    -1.9258%     -4.5063%\n",
       "2021-06-08    -2.8052%      0.7480%\n",
       "2021-06-09    -3.9847%     -2.5543%\n",
       "2021-06-10     2.0363%      1.0880%\n",
       "\n",
       "[98 rows x 2 columns]"
      ]
     },
     "execution_count": 211,
     "metadata": {},
     "output_type": "execute_result"
    }
   ],
   "source": [
    "# Calculating returns\n",
    "\n",
    "Y = data[assets].pct_change().dropna()\n",
    "\n",
    "Y"
   ]
  },
  {
   "cell_type": "code",
   "execution_count": 212,
   "id": "clear-filter",
   "metadata": {},
   "outputs": [
    {
     "ename": "ValueError",
     "evalue": "cannot convert float NaN to integer",
     "output_type": "error",
     "traceback": [
      "\u001b[1;31m---------------------------------------------------------------------------\u001b[0m",
      "\u001b[1;31mValueError\u001b[0m                                Traceback (most recent call last)",
      "\u001b[1;32m<ipython-input-212-693b610eb813>\u001b[0m in \u001b[0;36m<module>\u001b[1;34m\u001b[0m\n\u001b[0;32m      2\u001b[0m \u001b[1;33m\u001b[0m\u001b[0m\n\u001b[0;32m      3\u001b[0m \u001b[1;33m\u001b[0m\u001b[0m\n\u001b[1;32m----> 4\u001b[1;33m \u001b[0mclusters\u001b[0m \u001b[1;33m=\u001b[0m \u001b[0mcf\u001b[0m\u001b[1;33m.\u001b[0m\u001b[0massets_clusters\u001b[0m\u001b[1;33m(\u001b[0m\u001b[0mY\u001b[0m\u001b[1;33m,\u001b[0m \u001b[0mcorrelation\u001b[0m\u001b[1;33m=\u001b[0m\u001b[1;34m'pearson'\u001b[0m\u001b[1;33m,\u001b[0m \u001b[0mlinkage\u001b[0m\u001b[1;33m=\u001b[0m\u001b[1;34m'ward'\u001b[0m\u001b[1;33m,\u001b[0m \u001b[0mk\u001b[0m\u001b[1;33m=\u001b[0m\u001b[1;32mNone\u001b[0m\u001b[1;33m,\u001b[0m \u001b[0mmax_k\u001b[0m\u001b[1;33m=\u001b[0m\u001b[1;36m10\u001b[0m\u001b[1;33m,\u001b[0m \u001b[0mleaf_order\u001b[0m\u001b[1;33m=\u001b[0m\u001b[1;32mTrue\u001b[0m\u001b[1;33m)\u001b[0m\u001b[1;33m\u001b[0m\u001b[1;33m\u001b[0m\u001b[0m\n\u001b[0m\u001b[0;32m      5\u001b[0m \u001b[0mclusters\u001b[0m\u001b[1;33m\u001b[0m\u001b[1;33m\u001b[0m\u001b[0m\n",
      "\u001b[1;32mc:\\users\\lucki\\work\\anaconda3\\envs\\stock\\lib\\site-packages\\riskfolio\\ConstraintsFunctions.py\u001b[0m in \u001b[0;36massets_clusters\u001b[1;34m(returns, correlation, linkage, k, max_k, leaf_order)\u001b[0m\n\u001b[0;32m    747\u001b[0m     \u001b[1;32mif\u001b[0m \u001b[0mk\u001b[0m \u001b[1;32mis\u001b[0m \u001b[1;32mNone\u001b[0m\u001b[1;33m:\u001b[0m\u001b[1;33m\u001b[0m\u001b[1;33m\u001b[0m\u001b[0m\n\u001b[0;32m    748\u001b[0m         \u001b[1;31m# optimal number of clusters\u001b[0m\u001b[1;33m\u001b[0m\u001b[1;33m\u001b[0m\u001b[1;33m\u001b[0m\u001b[0m\n\u001b[1;32m--> 749\u001b[1;33m         \u001b[0mk\u001b[0m \u001b[1;33m=\u001b[0m \u001b[0maf\u001b[0m\u001b[1;33m.\u001b[0m\u001b[0mtwo_diff_gap_stat\u001b[0m\u001b[1;33m(\u001b[0m\u001b[0mcorr\u001b[0m\u001b[1;33m,\u001b[0m \u001b[0mdist\u001b[0m\u001b[1;33m,\u001b[0m \u001b[0mclustering\u001b[0m\u001b[1;33m,\u001b[0m \u001b[0mmax_k\u001b[0m\u001b[1;33m)\u001b[0m\u001b[1;33m\u001b[0m\u001b[1;33m\u001b[0m\u001b[0m\n\u001b[0m\u001b[0;32m    750\u001b[0m \u001b[1;33m\u001b[0m\u001b[0m\n\u001b[0;32m    751\u001b[0m     \u001b[0mclusters_inds\u001b[0m \u001b[1;33m=\u001b[0m \u001b[0mhr\u001b[0m\u001b[1;33m.\u001b[0m\u001b[0mfcluster\u001b[0m\u001b[1;33m(\u001b[0m\u001b[0mclustering\u001b[0m\u001b[1;33m,\u001b[0m \u001b[0mk\u001b[0m\u001b[1;33m,\u001b[0m \u001b[0mcriterion\u001b[0m\u001b[1;33m=\u001b[0m\u001b[1;34m\"maxclust\"\u001b[0m\u001b[1;33m)\u001b[0m\u001b[1;33m\u001b[0m\u001b[1;33m\u001b[0m\u001b[0m\n",
      "\u001b[1;32mc:\\users\\lucki\\work\\anaconda3\\envs\\stock\\lib\\site-packages\\riskfolio\\AuxFunctions.py\u001b[0m in \u001b[0;36mtwo_diff_gap_stat\u001b[1;34m(corr, dist, clusters, max_k)\u001b[0m\n\u001b[0;32m    324\u001b[0m     \u001b[0mgaps\u001b[0m \u001b[1;33m=\u001b[0m \u001b[0mW_list\u001b[0m\u001b[1;33m.\u001b[0m\u001b[0mshift\u001b[0m\u001b[1;33m(\u001b[0m\u001b[1;36m2\u001b[0m\u001b[1;33m)\u001b[0m \u001b[1;33m+\u001b[0m \u001b[0mW_list\u001b[0m \u001b[1;33m-\u001b[0m \u001b[1;36m2\u001b[0m \u001b[1;33m*\u001b[0m \u001b[0mW_list\u001b[0m\u001b[1;33m.\u001b[0m\u001b[0mshift\u001b[0m\u001b[1;33m(\u001b[0m\u001b[1;36m1\u001b[0m\u001b[1;33m)\u001b[0m\u001b[1;33m\u001b[0m\u001b[1;33m\u001b[0m\u001b[0m\n\u001b[0;32m    325\u001b[0m     \u001b[0mgaps\u001b[0m \u001b[1;33m=\u001b[0m \u001b[0mgaps\u001b[0m\u001b[1;33m[\u001b[0m\u001b[1;36m0\u001b[0m\u001b[1;33m:\u001b[0m\u001b[0mlimit_k\u001b[0m\u001b[1;33m]\u001b[0m\u001b[1;33m\u001b[0m\u001b[1;33m\u001b[0m\u001b[0m\n\u001b[1;32m--> 326\u001b[1;33m     \u001b[0mk\u001b[0m \u001b[1;33m=\u001b[0m \u001b[0mint\u001b[0m\u001b[1;33m(\u001b[0m\u001b[0mgaps\u001b[0m\u001b[1;33m.\u001b[0m\u001b[0midxmax\u001b[0m\u001b[1;33m(\u001b[0m\u001b[1;33m)\u001b[0m \u001b[1;33m+\u001b[0m \u001b[1;36m2\u001b[0m\u001b[1;33m)\u001b[0m\u001b[1;33m\u001b[0m\u001b[1;33m\u001b[0m\u001b[0m\n\u001b[0m\u001b[0;32m    327\u001b[0m \u001b[1;33m\u001b[0m\u001b[0m\n\u001b[0;32m    328\u001b[0m     \u001b[1;32mreturn\u001b[0m \u001b[0mk\u001b[0m\u001b[1;33m\u001b[0m\u001b[1;33m\u001b[0m\u001b[0m\n",
      "\u001b[1;31mValueError\u001b[0m: cannot convert float NaN to integer"
     ]
    }
   ],
   "source": [
    "import riskfolio.ConstraintsFunctions as cf\n",
    "\n",
    "\n",
    "clusters = cf.assets_clusters(Y, correlation='pearson', linkage='ward', k=None, max_k=10, leaf_order=True)\n",
    "clusters"
   ]
  },
  {
   "cell_type": "code",
   "execution_count": null,
   "id": "comfortable-front",
   "metadata": {},
   "outputs": [],
   "source": [
    "\n",
    "import riskfolio.PlotFunctions as plf\n",
    "ax = plf.plot_clusters(returns=Y, correlation='pearson',\n",
    "                       linkage='ward', k=None, max_k=10,\n",
    "                       leaf_order=True, dendrogram=True, ax=None)\n"
   ]
  },
  {
   "cell_type": "code",
   "execution_count": null,
   "id": "rolled-printing",
   "metadata": {},
   "outputs": [],
   "source": []
  },
  {
   "cell_type": "code",
   "execution_count": null,
   "id": "protected-criticism",
   "metadata": {},
   "outputs": [],
   "source": []
  },
  {
   "cell_type": "code",
   "execution_count": null,
   "id": "duplicate-moment",
   "metadata": {},
   "outputs": [],
   "source": []
  },
  {
   "cell_type": "code",
   "execution_count": null,
   "id": "proud-finance",
   "metadata": {},
   "outputs": [],
   "source": []
  },
  {
   "cell_type": "code",
   "execution_count": null,
   "id": "individual-money",
   "metadata": {},
   "outputs": [],
   "source": []
  },
  {
   "cell_type": "code",
   "execution_count": null,
   "id": "eleven-circular",
   "metadata": {},
   "outputs": [],
   "source": []
  },
  {
   "cell_type": "code",
   "execution_count": null,
   "id": "square-player",
   "metadata": {},
   "outputs": [],
   "source": []
  }
 ],
 "metadata": {
  "kernelspec": {
   "display_name": "Python 3",
   "language": "python",
   "name": "python3"
  },
  "language_info": {
   "codemirror_mode": {
    "name": "ipython",
    "version": 3
   },
   "file_extension": ".py",
   "mimetype": "text/x-python",
   "name": "python",
   "nbconvert_exporter": "python",
   "pygments_lexer": "ipython3",
   "version": "3.7.10"
  }
 },
 "nbformat": 4,
 "nbformat_minor": 5
}
